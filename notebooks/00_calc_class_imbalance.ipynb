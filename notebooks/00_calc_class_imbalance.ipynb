{
 "cells": [
  {
   "cell_type": "code",
   "execution_count": 1,
   "id": "cb042bfe-75e7-4eec-9cbd-f43966859b87",
   "metadata": {},
   "outputs": [],
   "source": [
    "import os\n",
    "import sys\n",
    "import multiprocessing as mp\n",
    "import pickle\n",
    "from pathlib import Path\n",
    "import wandb\n",
    "import torch\n",
    "import geopandas as gpd\n",
    "import pandas as pd\n",
    "import matplotlib.pyplot as plt\n",
    "from segmentation_models_pytorch import Unet\n",
    "from collections import OrderedDict\n",
    "from torch.utils.data import DataLoader\n",
    "from lightning.pytorch import Trainer\n",
    "from sklearn.metrics import roc_auc_score, roc_curve, auc\n",
    "\n",
    "sys.path.append(\"../scripts/\")\n",
    "from asm_datamodules import *\n",
    "from asm_models import *"
   ]
  },
  {
   "cell_type": "code",
   "execution_count": 3,
   "id": "7e9ce33f-7d77-4fd0-a0e4-cd6b3145f3c0",
   "metadata": {},
   "outputs": [],
   "source": [
    "device, num_devices = (\"cuda\", torch.cuda.device_count()) if torch.cuda.is_available() else (\"cpu\", mp.cpu_count())\n",
    "workers = len(os.sched_getaffinity(0))"
   ]
  },
  {
   "cell_type": "code",
   "execution_count": 4,
   "id": "c0103fae-b4a5-4418-9bfe-d48b9c2d74ed",
   "metadata": {},
   "outputs": [],
   "source": [
    "# datamodule parameters\n",
    "root = \"/n/holyscratch01/tambe_lab/kayan/karena/\"\n",
    "batch_size = 64\n",
    "num_workers = workers\n",
    "mines_only = False\n",
    "split = False\n",
    "split_n = None\n",
    "split_path = \"/n/home07/kayan/asm/data/splits/9_all_data_lowlr_save-split\"\n",
    "save_split = False"
   ]
  },
  {
   "cell_type": "code",
   "execution_count": 5,
   "id": "a7be5ea4-ab71-4827-b0f1-c927fc40d430",
   "metadata": {},
   "outputs": [],
   "source": [
    "# get train dataloader from datamodule\n",
    "datamodule = ASMDataModule(batch_size=batch_size, num_workers=num_workers, split=split, split_n=split_n, \n",
    "                           root=root, transforms=min_max_transform, mines_only=mines_only, split_path=split_path)\n",
    "datamodule.setup(\"fit\")\n",
    "train_dataloader = datamodule.train_dataloader()"
   ]
  },
  {
   "cell_type": "code",
   "execution_count": 11,
   "id": "464c996f-273f-4a84-85d2-49bf137bc86e",
   "metadata": {},
   "outputs": [
    {
     "name": "stdout",
     "output_type": "stream",
     "text": [
      "Batch: 0\n",
      "Batch: 1\n",
      "Batch: 2\n",
      "Batch: 3\n",
      "Batch: 4\n",
      "Batch: 5\n",
      "Batch: 6\n",
      "Batch: 7\n",
      "Batch: 8\n",
      "Batch: 9\n",
      "Batch: 10\n",
      "Batch: 11\n",
      "Batch: 12\n",
      "Batch: 13\n",
      "Batch: 14\n",
      "Batch: 15\n",
      "Batch: 16\n",
      "Batch: 17\n",
      "Batch: 18\n",
      "Batch: 19\n",
      "Batch: 20\n",
      "Batch: 21\n",
      "Batch: 22\n",
      "Batch: 23\n",
      "Batch: 24\n",
      "Batch: 25\n",
      "Batch: 26\n",
      "Batch: 27\n",
      "Batch: 28\n",
      "Batch: 29\n",
      "Batch: 30\n",
      "Batch: 31\n",
      "Batch: 32\n",
      "Batch: 33\n",
      "Batch: 34\n",
      "Batch: 35\n",
      "Batch: 36\n",
      "Batch: 37\n",
      "Batch: 38\n",
      "Batch: 39\n",
      "Batch: 40\n",
      "Batch: 41\n",
      "Batch: 42\n",
      "Batch: 43\n",
      "Batch: 44\n",
      "Batch: 45\n",
      "Batch: 46\n",
      "Batch: 47\n",
      "Batch: 48\n",
      "Batch: 49\n",
      "Batch: 50\n",
      "Batch: 51\n",
      "Batch: 52\n",
      "Batch: 53\n",
      "Batch: 54\n",
      "Batch: 55\n",
      "Batch: 56\n",
      "Batch: 57\n",
      "Batch: 58\n",
      "Batch: 59\n",
      "Batch: 60\n",
      "Batch: 61\n",
      "Batch: 62\n",
      "Batch: 63\n",
      "Batch: 64\n",
      "Batch: 65\n",
      "Batch: 66\n",
      "Batch: 67\n",
      "Batch: 68\n",
      "Batch: 69\n",
      "Batch: 70\n",
      "Batch: 71\n",
      "Batch: 72\n",
      "Batch: 73\n",
      "Batch: 74\n",
      "Batch: 75\n",
      "Batch: 76\n",
      "Batch: 77\n",
      "Batch: 78\n",
      "Batch: 79\n",
      "Batch: 80\n",
      "Batch: 81\n",
      "Batch: 82\n",
      "Batch: 83\n",
      "Batch: 84\n",
      "Batch: 85\n",
      "Batch: 86\n",
      "Batch: 87\n",
      "Batch: 88\n",
      "Batch: 89\n",
      "Batch: 90\n",
      "Batch: 91\n",
      "Batch: 92\n",
      "Batch: 93\n",
      "Batch: 94\n",
      "Batch: 95\n",
      "Batch: 96\n",
      "Batch: 97\n",
      "Batch: 98\n",
      "Batch: 99\n",
      "Batch: 100\n",
      "Batch: 101\n",
      "Batch: 102\n",
      "Batch: 103\n",
      "Batch: 104\n",
      "Batch: 105\n",
      "Batch: 106\n",
      "Batch: 107\n",
      "Batch: 108\n",
      "Batch: 109\n",
      "Batch: 110\n",
      "Batch: 111\n",
      "Batch: 112\n",
      "Batch: 113\n",
      "Batch: 114\n",
      "Batch: 115\n",
      "Batch: 116\n",
      "Batch: 117\n",
      "Batch: 118\n",
      "Batch: 119\n",
      "Batch: 120\n",
      "Batch: 121\n",
      "Batch: 122\n",
      "Batch: 123\n",
      "Batch: 124\n",
      "Batch: 125\n",
      "Batch: 126\n",
      "Batch: 127\n",
      "Batch: 128\n",
      "Batch: 129\n",
      "Batch: 130\n",
      "Batch: 131\n",
      "Batch: 132\n",
      "Batch: 133\n",
      "Batch: 134\n",
      "Batch: 135\n",
      "Batch: 136\n",
      "Batch: 137\n",
      "Batch: 138\n",
      "Batch: 139\n"
     ]
    }
   ],
   "source": [
    "# calculate number of white pixels in train dataset\n",
    "num_white = 0\n",
    "total_pixels = 0\n",
    "for idx,samples in enumerate(train_dataloader):\n",
    "    num_white += torch.sum(samples[\"mask\"])\n",
    "    total_pixels += batch_size*256*256\n",
    "    print(f\"Batch: {idx}\")"
   ]
  },
  {
   "cell_type": "code",
   "execution_count": 13,
   "id": "cdb5a7f9-20e3-4c13-a25d-d3cd23b24042",
   "metadata": {},
   "outputs": [
    {
     "name": "stdout",
     "output_type": "stream",
     "text": [
      "tensor(134.9157)\n"
     ]
    }
   ],
   "source": [
    "print(total_pixels/num_white)"
   ]
  },
  {
   "cell_type": "code",
   "execution_count": 14,
   "id": "b89610e4-3bcb-4321-a717-63ac02391c0b",
   "metadata": {},
   "outputs": [
    {
     "name": "stdout",
     "output_type": "stream",
     "text": [
      "tensor(1.0075)\n"
     ]
    }
   ],
   "source": [
    "print(total_pixels/(total_pixels-num_white))"
   ]
  },
  {
   "cell_type": "code",
   "execution_count": null,
   "id": "6f0aa2d3-6569-4ded-8724-bfa832a6656c",
   "metadata": {},
   "outputs": [],
   "source": []
  }
 ],
 "metadata": {
  "kernelspec": {
   "display_name": "Python [conda env:miniconda3-geo-ml]",
   "language": "python",
   "name": "conda-env-miniconda3-geo-ml-py"
  },
  "language_info": {
   "codemirror_mode": {
    "name": "ipython",
    "version": 3
   },
   "file_extension": ".py",
   "mimetype": "text/x-python",
   "name": "python",
   "nbconvert_exporter": "python",
   "pygments_lexer": "ipython3",
   "version": "3.11.6"
  }
 },
 "nbformat": 4,
 "nbformat_minor": 5
}
