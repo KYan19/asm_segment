{
 "cells": [
  {
   "cell_type": "code",
   "execution_count": 29,
   "id": "df56e8de-5154-40af-b010-677775060e6d",
   "metadata": {},
   "outputs": [],
   "source": [
    "import os\n",
    "import sys\n",
    "import wandb\n",
    "import torch\n",
    "import geopandas as gpd\n",
    "import pandas as pd\n",
    "import numpy as np\n",
    "import matplotlib.pyplot as plt\n",
    "from segmentation_models_pytorch import Unet\n",
    "from collections import OrderedDict\n",
    "from torch.utils.data import DataLoader\n",
    "from lightning.pytorch import Trainer\n",
    "from sklearn.metrics import roc_auc_score, roc_curve, auc\n",
    "\n",
    "sys.path.append(\"../scripts/\")\n",
    "from asm_datamodules import *\n",
    "from asm_models import *"
   ]
  },
  {
   "cell_type": "code",
   "execution_count": 2,
   "id": "b02db908-9a56-41d6-9c31-a672f9ba5e8f",
   "metadata": {},
   "outputs": [],
   "source": [
    "%load_ext autoreload\n",
    "%autoreload 2"
   ]
  },
  {
   "cell_type": "markdown",
   "id": "d2ed38ef-6cde-4464-9836-af1095348029",
   "metadata": {},
   "source": [
    "# Download artifacts from WandB"
   ]
  },
  {
   "cell_type": "code",
   "execution_count": 54,
   "id": "7693211d-4f95-4f75-836b-dec6ac401c08",
   "metadata": {},
   "outputs": [],
   "source": [
    "handles = {\"SLE\": \"asm_detect/ASM_seg_LOCO/model-oz029l9x:v0\", \n",
    "          \"COD\": \"asm_detect/ASM_seg_LOCO/model-8jbjqipn:v0\",\n",
    "          \"CAF\": \"asm_detect/ASM_seg_LOCO/model-kkqopour:v0\",\n",
    "          \"ZWE\": \"asm_detect/ASM_seg_LOCO/model-6u2up59l:v0\",\n",
    "          \"TZA\": \"asm_detect/ASM_seg_LOCO/model-a1j9lzbi:v0\"}"
   ]
  },
  {
   "cell_type": "code",
   "execution_count": 17,
   "id": "87d39251-10d0-4123-81d3-788d287f6524",
   "metadata": {},
   "outputs": [
    {
     "data": {
      "text/html": [
       "Finishing last run (ID:xt7g41xt) before initializing another..."
      ],
      "text/plain": [
       "<IPython.core.display.HTML object>"
      ]
     },
     "metadata": {},
     "output_type": "display_data"
    },
    {
     "name": "stderr",
     "output_type": "stream",
     "text": [
      "wandb: WARNING Source type is set to 'repo' but some required information is missing from the environment. A job will not be created from this run. See https://docs.wandb.ai/guides/launch/create-job\n"
     ]
    },
    {
     "data": {
      "application/vnd.jupyter.widget-view+json": {
       "model_id": "f8b2c6bace8a46b391e2e82f67918a97",
       "version_major": 2,
       "version_minor": 0
      },
      "text/plain": [
       "VBox(children=(Label(value='0.008 MB of 0.008 MB uploaded\\r'), FloatProgress(value=1.0, max=1.0)))"
      ]
     },
     "metadata": {},
     "output_type": "display_data"
    },
    {
     "data": {
      "text/html": [
       " View run <strong style=\"color:#cdcd00\">crimson-dust-14</strong> at: <a href='https://wandb.ai/asm_detect/asm-notebooks/runs/xt7g41xt' target=\"_blank\">https://wandb.ai/asm_detect/asm-notebooks/runs/xt7g41xt</a><br/>Synced 6 W&B file(s), 0 media file(s), 0 artifact file(s) and 0 other file(s)"
      ],
      "text/plain": [
       "<IPython.core.display.HTML object>"
      ]
     },
     "metadata": {},
     "output_type": "display_data"
    },
    {
     "data": {
      "text/html": [
       "Find logs at: <code>./wandb/run-20240324_102620-xt7g41xt/logs</code>"
      ],
      "text/plain": [
       "<IPython.core.display.HTML object>"
      ]
     },
     "metadata": {},
     "output_type": "display_data"
    },
    {
     "data": {
      "text/html": [
       "Successfully finished last run (ID:xt7g41xt). Initializing new run:<br/>"
      ],
      "text/plain": [
       "<IPython.core.display.HTML object>"
      ]
     },
     "metadata": {},
     "output_type": "display_data"
    },
    {
     "data": {
      "application/vnd.jupyter.widget-view+json": {
       "model_id": "f83fd675784b45ce975c8f7380bc8b89",
       "version_major": 2,
       "version_minor": 0
      },
      "text/plain": [
       "VBox(children=(Label(value='Waiting for wandb.init()...\\r'), FloatProgress(value=0.011112037788714385, max=1.0…"
      ]
     },
     "metadata": {},
     "output_type": "display_data"
    },
    {
     "data": {
      "text/html": [
       "wandb version 0.16.4 is available!  To upgrade, please run:\n",
       " $ pip install wandb --upgrade"
      ],
      "text/plain": [
       "<IPython.core.display.HTML object>"
      ]
     },
     "metadata": {},
     "output_type": "display_data"
    },
    {
     "data": {
      "text/html": [
       "Tracking run with wandb version 0.16.0"
      ],
      "text/plain": [
       "<IPython.core.display.HTML object>"
      ]
     },
     "metadata": {},
     "output_type": "display_data"
    },
    {
     "data": {
      "text/html": [
       "Run data is saved locally in <code>/n/home07/kayan/asm/notebooks/wandb/run-20240324_102918-q4iy8qal</code>"
      ],
      "text/plain": [
       "<IPython.core.display.HTML object>"
      ]
     },
     "metadata": {},
     "output_type": "display_data"
    },
    {
     "data": {
      "text/html": [
       "Syncing run <strong><a href='https://wandb.ai/asm_detect/asm-notebooks/runs/q4iy8qal' target=\"_blank\">scarlet-spaceship-15</a></strong> to <a href='https://wandb.ai/asm_detect/asm-notebooks' target=\"_blank\">Weights & Biases</a> (<a href='https://wandb.me/run' target=\"_blank\">docs</a>)<br/>"
      ],
      "text/plain": [
       "<IPython.core.display.HTML object>"
      ]
     },
     "metadata": {},
     "output_type": "display_data"
    },
    {
     "data": {
      "text/html": [
       " View project at <a href='https://wandb.ai/asm_detect/asm-notebooks' target=\"_blank\">https://wandb.ai/asm_detect/asm-notebooks</a>"
      ],
      "text/plain": [
       "<IPython.core.display.HTML object>"
      ]
     },
     "metadata": {},
     "output_type": "display_data"
    },
    {
     "data": {
      "text/html": [
       " View run at <a href='https://wandb.ai/asm_detect/asm-notebooks/runs/q4iy8qal' target=\"_blank\">https://wandb.ai/asm_detect/asm-notebooks/runs/q4iy8qal</a>"
      ],
      "text/plain": [
       "<IPython.core.display.HTML object>"
      ]
     },
     "metadata": {},
     "output_type": "display_data"
    },
    {
     "name": "stderr",
     "output_type": "stream",
     "text": [
      "\u001b[34m\u001b[1mwandb\u001b[0m: Downloading large artifact model-oz029l9x:v0, 164.20MB. 1 files... \n",
      "\u001b[34m\u001b[1mwandb\u001b[0m:   1 of 1 files downloaded.  \n",
      "Done. 0:0:3.0\n",
      "\u001b[34m\u001b[1mwandb\u001b[0m: Downloading large artifact model-8jbjqipn:v0, 164.20MB. 1 files... \n",
      "\u001b[34m\u001b[1mwandb\u001b[0m:   1 of 1 files downloaded.  \n",
      "Done. 0:0:3.0\n",
      "\u001b[34m\u001b[1mwandb\u001b[0m: Downloading large artifact model-kkqopour:v0, 164.20MB. 1 files... \n",
      "\u001b[34m\u001b[1mwandb\u001b[0m:   1 of 1 files downloaded.  \n",
      "Done. 0:0:3.0\n",
      "\u001b[34m\u001b[1mwandb\u001b[0m: Downloading large artifact model-6u2up59l:v0, 164.20MB. 1 files... \n",
      "\u001b[34m\u001b[1mwandb\u001b[0m:   1 of 1 files downloaded.  \n",
      "Done. 0:0:3.0\n",
      "\u001b[34m\u001b[1mwandb\u001b[0m: Downloading large artifact model-a1j9lzbi:v0, 164.20MB. 1 files... \n",
      "\u001b[34m\u001b[1mwandb\u001b[0m:   1 of 1 files downloaded.  \n",
      "Done. 0:0:2.9\n"
     ]
    }
   ],
   "source": [
    "run = wandb.init()\n",
    "\n",
    "for key,value in handles.items():\n",
    "    # path where this model artifact will be saved\n",
    "    root = f\"/n/home07/kayan/asm/models/LOCO_{key}\"\n",
    "    \n",
    "    # get artifact from wandb and download locally\n",
    "    artifact = run.use_artifact(value, type='model')\n",
    "    artifact_dir = artifact.download(root=root)"
   ]
  },
  {
   "cell_type": "code",
   "execution_count": 31,
   "id": "742a73d0-ecf4-44e5-bc9a-304594be6598",
   "metadata": {},
   "outputs": [
    {
     "name": "stderr",
     "output_type": "stream",
     "text": [
      "wandb: WARNING Source type is set to 'repo' but some required information is missing from the environment. A job will not be created from this run. See https://docs.wandb.ai/guides/launch/create-job\n"
     ]
    },
    {
     "data": {
      "application/vnd.jupyter.widget-view+json": {
       "model_id": "966e0853e2254833878a514ed38929d5",
       "version_major": 2,
       "version_minor": 0
      },
      "text/plain": [
       "VBox(children=(Label(value='0.008 MB of 0.008 MB uploaded\\r'), FloatProgress(value=1.0, max=1.0)))"
      ]
     },
     "metadata": {},
     "output_type": "display_data"
    },
    {
     "data": {
      "text/html": [
       " View run <strong style=\"color:#cdcd00\">scarlet-spaceship-15</strong> at: <a href='https://wandb.ai/asm_detect/asm-notebooks/runs/q4iy8qal' target=\"_blank\">https://wandb.ai/asm_detect/asm-notebooks/runs/q4iy8qal</a><br/>Synced 6 W&B file(s), 0 media file(s), 0 artifact file(s) and 0 other file(s)"
      ],
      "text/plain": [
       "<IPython.core.display.HTML object>"
      ]
     },
     "metadata": {},
     "output_type": "display_data"
    },
    {
     "data": {
      "text/html": [
       "Find logs at: <code>./wandb/run-20240324_102918-q4iy8qal/logs</code>"
      ],
      "text/plain": [
       "<IPython.core.display.HTML object>"
      ]
     },
     "metadata": {},
     "output_type": "display_data"
    }
   ],
   "source": [
    "wandb.finish()"
   ]
  },
  {
   "cell_type": "markdown",
   "id": "7b0a037a-9d82-4964-b338-f1002540dcd4",
   "metadata": {},
   "source": [
    "# Load models"
   ]
  },
  {
   "cell_type": "code",
   "execution_count": 18,
   "id": "0f0893fe-b2ad-437d-960e-a7a090825146",
   "metadata": {},
   "outputs": [],
   "source": [
    "# same parameters as trained model\n",
    "backbone = \"resnet18\"\n",
    "weights = True\n",
    "in_channels=4\n",
    "num_classes=2"
   ]
  },
  {
   "cell_type": "code",
   "execution_count": 19,
   "id": "c6d46f61-fdd9-4627-9efe-31697a7b1cab",
   "metadata": {},
   "outputs": [],
   "source": [
    "# dictionary for different country models \n",
    "models = {}"
   ]
  },
  {
   "cell_type": "code",
   "execution_count": 25,
   "id": "6392c4ca-a331-40f1-bf3c-8aedbd67a391",
   "metadata": {},
   "outputs": [],
   "source": [
    "for key in handles:\n",
    "    artifact_dir = f\"/n/home07/kayan/asm/models/LOCO_{key}\"\n",
    "    # create new version of state dict with keys matching unet model\n",
    "    state_dict = torch.load(f\"{artifact_dir}/model.ckpt\")[\"state_dict\"]\n",
    "    new_state_dict = OrderedDict()\n",
    "    for k, v in state_dict.items():\n",
    "        if k[:5] == \"model\":\n",
    "            name = k[6:] # remove `model.`\n",
    "            new_state_dict[name] = v\n",
    "            \n",
    "    # load model\n",
    "    models[key] = Unet(encoder_name=backbone,\n",
    "                encoder_weights=\"imagenet\" if weights is True else None,\n",
    "                in_channels=in_channels,\n",
    "                classes=num_classes,\n",
    "                )\n",
    "    models[key].load_state_dict(new_state_dict)"
   ]
  },
  {
   "cell_type": "markdown",
   "id": "947c3ddb-aa02-4758-8e1f-eb4683c48b6e",
   "metadata": {},
   "source": [
    "# Run inference"
   ]
  },
  {
   "cell_type": "code",
   "execution_count": 27,
   "id": "40810bff-b421-430f-950a-cc08c9544fdf",
   "metadata": {},
   "outputs": [
    {
     "name": "stdout",
     "output_type": "stream",
     "text": [
      "Running on 1 cuda(s) with 4 cpus\n"
     ]
    }
   ],
   "source": [
    "# device configuration\n",
    "device, num_devices = (\"cuda\", torch.cuda.device_count()) if torch.cuda.is_available() else (\"cpu\", len(os.sched_getaffinity(0)))\n",
    "workers = len(os.sched_getaffinity(0))\n",
    "print(f\"Running on {num_devices} {device}(s) with {workers} cpus\")"
   ]
  },
  {
   "cell_type": "code",
   "execution_count": 28,
   "id": "899e5b75-b95e-448c-9971-c03d89f50384",
   "metadata": {},
   "outputs": [],
   "source": [
    "# datamodule parameters\n",
    "root = \"/n/holyscratch01/tambe_lab/kayan/karena/\"\n",
    "batch_size = 64\n",
    "num_workers = workers\n",
    "mines_only = False\n",
    "split = False\n",
    "split_n = None\n",
    "save_split = False"
   ]
  },
  {
   "cell_type": "code",
   "execution_count": 33,
   "id": "981fc533-ff56-4e47-b53d-cad40bccb352",
   "metadata": {},
   "outputs": [],
   "source": [
    "# true label data\n",
    "path=\"/n/home07/kayan/asm/data/filtered_labels.geojson\"\n",
    "label_df = gpd.read_file(path)"
   ]
  },
  {
   "cell_type": "code",
   "execution_count": 38,
   "id": "11fbb0cf-17fe-430e-ae28-8a49c4762fc2",
   "metadata": {},
   "outputs": [],
   "source": [
    "def run_inference(key):\n",
    "    '''Runs inference for a given country and returns pixelwise predictions + image-wide probabilities'''\n",
    "    split_path = f\"/n/home07/kayan/asm/data/splits/split_LOCO_{key}\"\n",
    "    model = models[key]\n",
    "    \n",
    "    # get test dataloader from datamodule\n",
    "    datamodule = ASMDataModule(batch_size=batch_size, num_workers=num_workers, split=split, split_n=split_n, \n",
    "                               root=root, transforms=min_max_transform, mines_only=mines_only, split_path=split_path)\n",
    "    datamodule.setup(\"test\")\n",
    "    test_dataloader = datamodule.test_dataloader()\n",
    "    \n",
    "    # Put model on evaluation mode and load to local device\n",
    "    model.eval()\n",
    "    device = torch.device('cuda' if torch.cuda.is_available() else 'cpu')\n",
    "    model = model.to(device)\n",
    "    \n",
    "    pixelwise_predictions = {}\n",
    "    image_predictions = {}\n",
    "\n",
    "    with torch.inference_mode():\n",
    "        for idx,samples in enumerate(test_dataloader):\n",
    "            unique_ids = samples['id']\n",
    "\n",
    "            # Move input data to the device\n",
    "            inputs = samples['image'].to(device)\n",
    "\n",
    "            # Forward pass\n",
    "            outputs = model(inputs)\n",
    "            outputs = torch.softmax(outputs, dim=1)\n",
    "\n",
    "            for unique_id,output in zip(unique_ids, outputs):\n",
    "                preds = output[1].cpu().numpy()\n",
    "                pixelwise_predictions[unique_id] = preds\n",
    "                image_predictions[unique_id] = np.mean(preds)\n",
    "                \n",
    "            if idx%5==0: print(f\"Batch {idx}\", end=\" \")\n",
    "    \n",
    "    return pixelwise_predictions, image_predictions"
   ]
  },
  {
   "cell_type": "code",
   "execution_count": 40,
   "id": "cccca20e-a152-4c37-b139-1a98a4c1457c",
   "metadata": {},
   "outputs": [],
   "source": [
    "def roc_auc(class_proba, key):\n",
    "    '''Given image-wide predictions for a country, calculate AUC and plot ROC curve'''\n",
    "    true_labels = [label_df[label_df[\"unique_id\"]==x][\"label\"].values[0] for x in class_proba.keys()]\n",
    "    class_proba = list(class_proba.values())\n",
    "    \n",
    "    fig,ax = plt.subplots()\n",
    "    fpr, tpr, _ = roc_curve(true_labels, class_proba)\n",
    "    ax.plot(fpr, tpr)\n",
    "    ax.set_title(f\"LOCO test ROC for {key}\")\n",
    "    ax.set_xlabel(\"False Positive\")\n",
    "    ax.set_ylabel(\"True Positive\")\n",
    "    \n",
    "    auc = roc_auc_score(true_labels, class_proba)\n",
    "    print(f\"LOCO test AUC for {key} is: {auc}\")\n",
    "    return auc"
   ]
  },
  {
   "cell_type": "markdown",
   "id": "12605b29-2e43-4bcf-aaa7-f394659416e9",
   "metadata": {},
   "source": [
    "# SLE"
   ]
  },
  {
   "cell_type": "code",
   "execution_count": 39,
   "id": "e5d807ac-826d-4061-bd7f-83b6c52cbb8f",
   "metadata": {},
   "outputs": [
    {
     "name": "stdout",
     "output_type": "stream",
     "text": [
      "Batch 0 Batch 5 Batch 10 Batch 15 Batch 20 Batch 25 Batch 30 Batch 35 Batch 40 Batch 45 Batch 50 Batch 55 Batch 60 Batch 65 Batch 70 "
     ]
    }
   ],
   "source": [
    "sle_pixelwise_preds, sle_image_preds = run_inference(\"SLE\")"
   ]
  },
  {
   "cell_type": "code",
   "execution_count": 42,
   "id": "6359bf79-19cf-4aac-95e5-31e3cb7f87d2",
   "metadata": {},
   "outputs": [
    {
     "name": "stdout",
     "output_type": "stream",
     "text": [
      "LOCO test AUC for SLE is: 0.7688689580757294\n"
     ]
    },
    {
     "data": {
      "image/png": "[encoded data removed]",
      "text/plain": [
       "<Figure size 640x480 with 1 Axes>"
      ]
     },
     "metadata": {},
     "output_type": "display_data"
    }
   ],
   "source": [
    "sle_auc = roc_auc(sle_image_preds, \"SLE\")"
   ]
  },
  {
   "cell_type": "markdown",
   "id": "cdf19f15-b3f4-4954-811a-e7648f7e50b5",
   "metadata": {},
   "source": [
    "# COD"
   ]
  },
  {
   "cell_type": "code",
   "execution_count": 43,
   "id": "f87bf349-5375-4b21-b9e6-d4be83c33ca7",
   "metadata": {},
   "outputs": [
    {
     "name": "stdout",
     "output_type": "stream",
     "text": [
      "Batch 0 Batch 5 Batch 10 Batch 15 Batch 20 Batch 25 Batch 30 Batch 35 Batch 40 Batch 45 Batch 50 Batch 55 Batch 60 Batch 65 Batch 70 Batch 75 Batch 80 Batch 85 Batch 90 Batch 95 Batch 100 Batch 105 Batch 110 Batch 115 "
     ]
    }
   ],
   "source": [
    "cod_pixelwise_preds, cod_image_preds = run_inference(\"COD\")"
   ]
  },
  {
   "cell_type": "code",
   "execution_count": 44,
   "id": "e254be9b-fb36-4c7f-8920-96f867374545",
   "metadata": {},
   "outputs": [
    {
     "name": "stdout",
     "output_type": "stream",
     "text": [
      "LOCO test AUC for COD is: 0.8249597746179436\n"
     ]
    },
    {
     "data": {
      "image/png": "[encoded data removed]",
      "text/plain": [
       "<Figure size 640x480 with 1 Axes>"
      ]
     },
     "metadata": {},
     "output_type": "display_data"
    }
   ],
   "source": [
    "cod_auc = roc_auc(cod_image_preds, \"COD\")"
   ]
  },
  {
   "cell_type": "code",
   "execution_count": 46,
   "id": "a7ef62a0-837a-4b97-b31d-1434f1348c99",
   "metadata": {},
   "outputs": [],
   "source": [
    "del cod_pixelwise_preds\n",
    "del sle_pixelwise_preds"
   ]
  },
  {
   "cell_type": "markdown",
   "id": "bf2513d0-4ff4-406b-b991-99854385c869",
   "metadata": {},
   "source": [
    "# CAF"
   ]
  },
  {
   "cell_type": "code",
   "execution_count": 47,
   "id": "7697f813-d89f-4ec7-8059-9fe427e995ec",
   "metadata": {},
   "outputs": [
    {
     "name": "stdout",
     "output_type": "stream",
     "text": [
      "Batch 0 Batch 5 Batch 10 Batch 15 "
     ]
    }
   ],
   "source": [
    "caf_pixelwise_preds, caf_image_preds = run_inference(\"CAF\")"
   ]
  },
  {
   "cell_type": "code",
   "execution_count": 48,
   "id": "ab4a3924-d995-4fad-a862-f1105b183c31",
   "metadata": {},
   "outputs": [
    {
     "name": "stdout",
     "output_type": "stream",
     "text": [
      "LOCO test AUC for CAF is: 0.8179005615221064\n"
     ]
    },
    {
     "data": {
      "image/png": "[encoded data removed]",
      "text/plain": [
       "<Figure size 640x480 with 1 Axes>"
      ]
     },
     "metadata": {},
     "output_type": "display_data"
    }
   ],
   "source": [
    "caf_auc = roc_auc(caf_image_preds, \"CAF\")"
   ]
  },
  {
   "cell_type": "markdown",
   "id": "95a9af99-18a7-4734-8039-2b5244aeaeb6",
   "metadata": {},
   "source": [
    "# ZWE"
   ]
  },
  {
   "cell_type": "code",
   "execution_count": 49,
   "id": "daba293a-7650-4157-b1a9-bb12e646e93c",
   "metadata": {},
   "outputs": [
    {
     "name": "stdout",
     "output_type": "stream",
     "text": [
      "Batch 0 Batch 5 "
     ]
    }
   ],
   "source": [
    "zwe_pixelwise_preds, zwe_image_preds = run_inference(\"ZWE\")"
   ]
  },
  {
   "cell_type": "code",
   "execution_count": 50,
   "id": "84a110c7-d05d-4d78-8c8d-af8f8c873732",
   "metadata": {},
   "outputs": [
    {
     "name": "stdout",
     "output_type": "stream",
     "text": [
      "LOCO test AUC for ZWE is: 0.6915458937198068\n"
     ]
    },
    {
     "data": {
      "image/png": "[encoded data removed]",
      "text/plain": [
       "<Figure size 640x480 with 1 Axes>"
      ]
     },
     "metadata": {},
     "output_type": "display_data"
    }
   ],
   "source": [
    "zwe_auc = roc_auc(zwe_image_preds, \"ZWE\")"
   ]
  },
  {
   "cell_type": "code",
   "execution_count": 51,
   "id": "14204052-15d9-4883-b6bb-9f509b0b38af",
   "metadata": {},
   "outputs": [],
   "source": [
    "del caf_pixelwise_preds\n",
    "del zwe_pixelwise_preds"
   ]
  },
  {
   "cell_type": "markdown",
   "id": "2b7ab327-fbff-4225-957a-9df0fbf2507b",
   "metadata": {},
   "source": [
    "# TZA"
   ]
  },
  {
   "cell_type": "code",
   "execution_count": 58,
   "id": "5c7378e5-4cbb-40c2-a746-740eb5b22fd1",
   "metadata": {},
   "outputs": [
    {
     "name": "stdout",
     "output_type": "stream",
     "text": [
      "Batch 0 Batch 5 Batch 10 Batch 15 "
     ]
    }
   ],
   "source": [
    "tza_pixelwise_preds, tza_image_preds = run_inference(\"TZA\")"
   ]
  },
  {
   "cell_type": "code",
   "execution_count": 59,
   "id": "c318ead8-7a49-4422-acdf-77ea21afdacf",
   "metadata": {},
   "outputs": [
    {
     "name": "stdout",
     "output_type": "stream",
     "text": [
      "LOCO test AUC for TZA is: 0.7522996020627075\n"
     ]
    },
    {
     "data": {
      "image/png": "[encoded data removed]",
      "text/plain": [
       "<Figure size 640x480 with 1 Axes>"
      ]
     },
     "metadata": {},
     "output_type": "display_data"
    }
   ],
   "source": [
    "tza_auc = roc_auc(tza_image_preds, \"TZA\")"
   ]
  },
  {
   "cell_type": "code",
   "execution_count": null,
   "id": "5987beb8-3760-4cb8-a896-f5d482bf2d2b",
   "metadata": {},
   "outputs": [],
   "source": []
  }
 ],
 "metadata": {
  "kernelspec": {
   "display_name": "Python [conda env:miniconda3-geo-ml]",
   "language": "python",
   "name": "conda-env-miniconda3-geo-ml-py"
  },
  "language_info": {
   "codemirror_mode": {
    "name": "ipython",
    "version": 3
   },
   "file_extension": ".py",
   "mimetype": "text/x-python",
   "name": "python",
   "nbconvert_exporter": "python",
   "pygments_lexer": "ipython3",
   "version": "3.11.6"
  }
 },
 "nbformat": 4,
 "nbformat_minor": 5
}
