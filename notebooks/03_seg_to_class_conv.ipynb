{
 "cells": [
  {
   "cell_type": "code",
   "execution_count": 1,
   "id": "313ded3f-37d3-4e29-a657-e69276a24cae",
   "metadata": {},
   "outputs": [],
   "source": [
    "import os\n",
    "import sys\n",
    "import multiprocessing as mp\n",
    "import pickle\n",
    "from pathlib import Path\n",
    "import wandb\n",
    "import torch\n",
    "import geopandas as gpd\n",
    "import pandas as pd\n",
    "import matplotlib.pyplot as plt\n",
    "import torch.optim as optim\n",
    "from segmentation_models_pytorch import Unet\n",
    "from collections import OrderedDict\n",
    "from torch.utils.data import TensorDataset, DataLoader\n",
    "from lightning.pytorch import Trainer\n",
    "from sklearn.metrics import roc_auc_score, roc_curve, auc\n",
    "\n",
    "sys.path.append(\"../scripts/\")\n",
    "from asm_datamodules import *\n",
    "from asm_models import *"
   ]
  },
  {
   "cell_type": "code",
   "execution_count": 2,
   "id": "82b775e5-617a-43c8-92fc-4b5de2d52fc8",
   "metadata": {},
   "outputs": [],
   "source": [
    "%load_ext autoreload\n",
    "%autoreload 2"
   ]
  },
  {
   "cell_type": "markdown",
   "id": "75f4000f-262e-412d-a0c6-6f0f75ed6710",
   "metadata": {},
   "source": [
    "# Load model as artifact from WandB"
   ]
  },
  {
   "cell_type": "code",
   "execution_count": 2,
   "id": "bdb9590d-7282-462c-b21e-5e756a339fcf",
   "metadata": {},
   "outputs": [
    {
     "name": "stderr",
     "output_type": "stream",
     "text": [
      "Failed to detect the name of this notebook, you can set it manually with the WANDB_NOTEBOOK_NAME environment variable to enable code saving.\n",
      "\u001b[34m\u001b[1mwandb\u001b[0m: Currently logged in as: \u001b[33mkayan\u001b[0m (\u001b[33masm_detect\u001b[0m). Use \u001b[1m`wandb login --relogin`\u001b[0m to force relogin\n"
     ]
    },
    {
     "data": {
      "text/html": [
       "wandb version 0.16.2 is available!  To upgrade, please run:\n",
       " $ pip install wandb --upgrade"
      ],
      "text/plain": [
       "<IPython.core.display.HTML object>"
      ]
     },
     "metadata": {},
     "output_type": "display_data"
    },
    {
     "data": {
      "text/html": [
       "Tracking run with wandb version 0.16.0"
      ],
      "text/plain": [
       "<IPython.core.display.HTML object>"
      ]
     },
     "metadata": {},
     "output_type": "display_data"
    },
    {
     "data": {
      "text/html": [
       "Run data is saved locally in <code>/n/home07/kayan/asm/notebooks/wandb/run-20240202_124612-rrtxq2u1</code>"
      ],
      "text/plain": [
       "<IPython.core.display.HTML object>"
      ]
     },
     "metadata": {},
     "output_type": "display_data"
    },
    {
     "data": {
      "text/html": [
       "Syncing run <strong><a href='https://wandb.ai/asm_detect/asm-notebooks/runs/rrtxq2u1' target=\"_blank\">cerulean-brook-5</a></strong> to <a href='https://wandb.ai/asm_detect/asm-notebooks' target=\"_blank\">Weights & Biases</a> (<a href='https://wandb.me/run' target=\"_blank\">docs</a>)<br/>"
      ],
      "text/plain": [
       "<IPython.core.display.HTML object>"
      ]
     },
     "metadata": {},
     "output_type": "display_data"
    },
    {
     "data": {
      "text/html": [
       " View project at <a href='https://wandb.ai/asm_detect/asm-notebooks' target=\"_blank\">https://wandb.ai/asm_detect/asm-notebooks</a>"
      ],
      "text/plain": [
       "<IPython.core.display.HTML object>"
      ]
     },
     "metadata": {},
     "output_type": "display_data"
    },
    {
     "data": {
      "text/html": [
       " View run at <a href='https://wandb.ai/asm_detect/asm-notebooks/runs/rrtxq2u1' target=\"_blank\">https://wandb.ai/asm_detect/asm-notebooks/runs/rrtxq2u1</a>"
      ],
      "text/plain": [
       "<IPython.core.display.HTML object>"
      ]
     },
     "metadata": {},
     "output_type": "display_data"
    },
    {
     "name": "stderr",
     "output_type": "stream",
     "text": [
      "\u001b[34m\u001b[1mwandb\u001b[0m: Downloading large artifact model-h2a1y1vd:v19, 164.20MB. 1 files... \n",
      "\u001b[34m\u001b[1mwandb\u001b[0m:   1 of 1 files downloaded.  \n",
      "Done. 0:0:5.8\n"
     ]
    }
   ],
   "source": [
    "run = wandb.init()\n",
    "#artifact = run.use_artifact('asm_detect/ASM_seg/model-z1woyme2:v18', type='model')\n",
    "#artifact = run.use_artifact('asm_detect/ASM_seg/model-ztyg139f:v19', type='model')\n",
    "artifact = run.use_artifact('asm_detect/ASM_seg/model-h2a1y1vd:v19', type='model')\n",
    "artifact_dir = artifact.download()"
   ]
  },
  {
   "cell_type": "code",
   "execution_count": 3,
   "id": "a59b29dc-ec56-4c7a-9869-348d54a419e0",
   "metadata": {},
   "outputs": [
    {
     "name": "stdout",
     "output_type": "stream",
     "text": [
      "/n/home07/kayan/asm/notebooks/artifacts/model-h2a1y1vd:v19\n"
     ]
    }
   ],
   "source": [
    "print(artifact_dir)"
   ]
  },
  {
   "cell_type": "code",
   "execution_count": 3,
   "id": "21fef44f-2742-4fa2-94ef-17fd4359fd61",
   "metadata": {},
   "outputs": [],
   "source": [
    "#artifact_dir = \"/n/home07/kayan/asm/notebooks/artifacts/model-z1woyme2:v19\"\n",
    "#artifact_dir = \"/n/home07/kayan/asm/notebooks/artifacts/model-ztyg139f:v19\"\n",
    "artifact_dir = \"/n/home07/kayan/asm/notebooks/artifacts/model-h2a1y1vd:v19\""
   ]
  },
  {
   "cell_type": "code",
   "execution_count": 4,
   "id": "3a0adc8a-3979-4f16-803d-2a63a20ff666",
   "metadata": {},
   "outputs": [],
   "source": [
    "state_dict = torch.load(f\"{artifact_dir}/model.ckpt\")[\"state_dict\"]"
   ]
  },
  {
   "cell_type": "code",
   "execution_count": 5,
   "id": "b5135050-b5c5-42cd-9efd-3b4d288d26e4",
   "metadata": {},
   "outputs": [
    {
     "data": {
      "text/plain": [
       "<All keys matched successfully>"
      ]
     },
     "execution_count": 5,
     "metadata": {},
     "output_type": "execute_result"
    }
   ],
   "source": [
    "# model parameters\n",
    "lr = 1e-5\n",
    "loss = \"ce\"\n",
    "class_weights = [0.2,0.8]\n",
    "freeze_backbone = False\n",
    "\n",
    "task_unet = CustomSemanticSegmentationTask(\n",
    "    model=\"unet\",\n",
    "    backbone=\"resnet18\",\n",
    "    weights=True,\n",
    "    loss=loss,\n",
    "    class_weights = torch.Tensor(class_weights),\n",
    "    in_channels=4,\n",
    "    num_classes=2,\n",
    "    lr=lr,\n",
    "    patience=5,\n",
    "    freeze_backbone=freeze_backbone,\n",
    "    freeze_decoder=False\n",
    ")\n",
    "\n",
    "task_unet.load_state_dict(state_dict)"
   ]
  },
  {
   "cell_type": "markdown",
   "id": "cb910264-cf19-41de-839a-7d6742ec14f6",
   "metadata": {},
   "source": [
    "# Set up dataloaders"
   ]
  },
  {
   "cell_type": "code",
   "execution_count": 6,
   "id": "4adf2ef2-3f97-4695-a9f2-66d18bccf8e7",
   "metadata": {},
   "outputs": [],
   "source": [
    "# Put model on evaluation mode and load to local device\n",
    "task_unet.eval()\n",
    "\n",
    "device, num_devices = (\"cuda\", torch.cuda.device_count()) if torch.cuda.is_available() else (\"cpu\", mp.cpu_count())\n",
    "workers = len(os.sched_getaffinity(0))\n",
    "task_unet = task_unet.to(device)"
   ]
  },
  {
   "cell_type": "code",
   "execution_count": 19,
   "id": "1c8abc79-607e-4f1a-abc7-6c034a39f7da",
   "metadata": {},
   "outputs": [],
   "source": [
    "# datamodule parameters\n",
    "root = \"/n/holyscratch01/tambe_lab/kayan/karena/\"\n",
    "batch_size = 1#batch_size = 64\n",
    "num_workers = workers\n",
    "mines_only = False\n",
    "split = False\n",
    "split_n = None\n",
    "split_path = \"/n/home07/kayan/asm/data/splits/9_all_data_lowlr_save-split\"\n",
    "save_split = False"
   ]
  },
  {
   "cell_type": "code",
   "execution_count": 20,
   "id": "aa30132e-f5f4-4466-936c-32d4f0082380",
   "metadata": {},
   "outputs": [],
   "source": [
    "# get test dataloader from datamodule\n",
    "datamodule = ASMDataModule(batch_size=batch_size, num_workers=num_workers, split=split, split_n=split_n, \n",
    "                           root=root, transforms=None, mines_only=mines_only, split_path=split_path)\n",
    "#datamodule = ASMDataModule(batch_size=batch_size, num_workers=num_workers, split=split, split_n=split_n, \n",
    "#                           root=root, transforms=min_max_transform, mines_only=mines_only, split_path=split_path)\n",
    "datamodule.setup(\"fit\")\n",
    "train_dataloader = datamodule.train_dataloader()\n",
    "val_dataloader = datamodule.val_dataloader()\n",
    "\n",
    "datamodule.setup(\"test\")\n",
    "test_dataloader = datamodule.test_dataloader()"
   ]
  },
  {
   "cell_type": "code",
   "execution_count": null,
   "id": "fb480f47-f3b4-4233-9018-a0e23e79fe41",
   "metadata": {},
   "outputs": [],
   "source": [
    "for idx,samples in enumerate(train_dataloader):\n",
    "    unique_ids = samples['id']\n",
    "    if idx==2: break"
   ]
  },
  {
   "cell_type": "code",
   "execution_count": null,
   "id": "4ad8579a-e397-43df-9b60-956f6c4a7888",
   "metadata": {},
   "outputs": [],
   "source": [
    "unique_ids"
   ]
  },
  {
   "cell_type": "markdown",
   "id": "66e9e533-aebf-446b-b8fa-277f1938b4b8",
   "metadata": {},
   "source": [
    "# Run inference"
   ]
  },
  {
   "cell_type": "code",
   "execution_count": null,
   "id": "7a7a65e9-870e-4c15-97b4-fe749876c8df",
   "metadata": {},
   "outputs": [],
   "source": [
    "# train dataset\n",
    "pixelwise_predictions = {}\n",
    "\n",
    "with torch.inference_mode():\n",
    "    for idx,samples in enumerate(train_dataloader):\n",
    "        unique_ids = samples['id']\n",
    "        \n",
    "        # Move input data to the device\n",
    "        inputs = samples['image'].to(device)\n",
    "\n",
    "        # Forward pass\n",
    "        outputs = task_unet(inputs)\n",
    "        outputs = torch.softmax(outputs, dim=1)\n",
    "        #outputs = outputs.argmax(dim=1).squeeze()\n",
    "        \n",
    "        for unique_id,output in zip(unique_ids, outputs):\n",
    "            pixelwise_predictions[unique_id] = output[1].cpu().numpy()\n",
    "        print(f\"Batch {idx}\", end =\" \")"
   ]
  },
  {
   "cell_type": "code",
   "execution_count": null,
   "id": "f950c827-2499-45c4-b92d-b017c96f6b2f",
   "metadata": {},
   "outputs": [],
   "source": [
    "# test dataset\n",
    "test_pixelwise_predictions = {}\n",
    "\n",
    "with torch.inference_mode():\n",
    "    for idx,samples in enumerate(test_dataloader):\n",
    "        unique_ids = samples['id']\n",
    "        \n",
    "        # Move input data to the device\n",
    "        inputs = samples['image'].to(device)\n",
    "\n",
    "        # Forward pass\n",
    "        outputs = task_unet(inputs)\n",
    "        outputs = torch.softmax(outputs, dim=1)\n",
    "        #outputs = outputs.argmax(dim=1).squeeze()\n",
    "        \n",
    "        for unique_id,output in zip(unique_ids, outputs):\n",
    "            test_pixelwise_predictions[unique_id] = output[1].cpu().numpy()\n",
    "        print(f\"Batch {idx}\")"
   ]
  },
  {
   "cell_type": "code",
   "execution_count": null,
   "id": "64178dfa-f342-48e9-81ba-9376e7186fb4",
   "metadata": {},
   "outputs": [],
   "source": [
    "# save segmentation output for train and test datasets\n",
    "data_dir = \"/n/home07/kayan/asm/data/\"\n",
    "with open(data_dir+\"train_seg_preds\", 'wb') as handle:\n",
    "    pickle.dump(pixelwise_preds, handle, protocol=pickle.HIGHEST_PROTOCOL)\n",
    "with open(data_dir+\"test_seg_preds\", 'wb') as handle:\n",
    "    pickle.dump(test_pixelwise_preds, handle, protocol=pickle.HIGHEST_PROTOCOL)"
   ]
  },
  {
   "cell_type": "markdown",
   "id": "055fa102-e97e-4458-8616-be7074f9125d",
   "metadata": {},
   "source": [
    "# Load previously saved segmentation model output"
   ]
  },
  {
   "cell_type": "code",
   "execution_count": null,
   "id": "beaf7599-551b-4909-b79c-bcc911fcda83",
   "metadata": {},
   "outputs": [],
   "source": [
    "data_dir = \"/n/home07/kayan/asm/data/\"\n",
    "with open(data_dir+\"train_seg_preds\", 'rb') as handle:\n",
    "    pixelwise_preds = pickle.load(handle)\n",
    "with open(data_dir+\"test_seg_preds\", 'wb') as handle:\n",
    "    test_pixelwise_preds = pickle.load(handle)"
   ]
  },
  {
   "cell_type": "markdown",
   "id": "cb08662d-f90a-454b-a470-4f0cd05d30ac",
   "metadata": {},
   "source": [
    "# Train convolutional layer"
   ]
  },
  {
   "cell_type": "code",
   "execution_count": 162,
   "id": "e20f580a-3bdb-4c5a-85d7-25435aa5b4ec",
   "metadata": {},
   "outputs": [],
   "source": [
    "# training parameters\n",
    "batch_size = 32\n",
    "lr = 0.001\n",
    "n_epoch = 5\n",
    "class_weights = torch.Tensor([0.2,0.8]).to(device)"
   ]
  },
  {
   "cell_type": "code",
   "execution_count": 145,
   "id": "66fc1b87-6e54-4810-af40-4fe0abb6c6b9",
   "metadata": {},
   "outputs": [],
   "source": [
    "# wandb logging info\n",
    "project = \"ASM_seg_conv\" # project name in WandB\n",
    "run_name = \"0_test\""
   ]
  },
  {
   "cell_type": "code",
   "execution_count": 146,
   "id": "d43d8592-6ae0-4746-8b8f-fb6a1a22d89a",
   "metadata": {},
   "outputs": [],
   "source": [
    "path=\"/n/home07/kayan/asm/data/filtered_labels.geojson\"\n",
    "label_df = gpd.read_file(path)\n",
    "\n",
    "labels = [label_df[label_df[\"unique_id\"]==x][\"label\"].values[0] for x in pixelwise_predictions.keys()]"
   ]
  },
  {
   "cell_type": "code",
   "execution_count": 147,
   "id": "8cf7fcbb-b6ef-4751-b234-4a8de65d8615",
   "metadata": {},
   "outputs": [],
   "source": [
    "inputs = np.array(list(pixelwise_predictions.values()))"
   ]
  },
  {
   "cell_type": "code",
   "execution_count": 148,
   "id": "3f07ba74-7c5f-4440-93e4-7c42b698fe9f",
   "metadata": {},
   "outputs": [],
   "source": [
    "tensor_inputs = torch.Tensor(inputs)\n",
    "tensor_inputs = tensor_inputs[:, None, :, :]\n",
    "tensor_labels = torch.LongTensor(labels)"
   ]
  },
  {
   "cell_type": "code",
   "execution_count": 149,
   "id": "21e606ef-3086-45e2-a772-bfbaacc2d891",
   "metadata": {},
   "outputs": [],
   "source": [
    "dataset = TensorDataset(tensor_inputs,tensor_labels)"
   ]
  },
  {
   "cell_type": "code",
   "execution_count": 150,
   "id": "afef85fa-2693-4fbb-b9ee-df6b193042ea",
   "metadata": {},
   "outputs": [],
   "source": [
    "dataloader = DataLoader(dataset, batch_size=batch_size, shuffle=True)"
   ]
  },
  {
   "cell_type": "code",
   "execution_count": 151,
   "id": "825f0c01-87b9-4f44-b567-9eb3bb5d35ff",
   "metadata": {},
   "outputs": [],
   "source": [
    "class ConvNet(nn.Module):\n",
    "    def __init__(self):\n",
    "        super().__init__()\n",
    "        self.conv1 = nn.Conv2d(1, 64, 5)\n",
    "        self.pool = nn.MaxPool2d(2, 2)\n",
    "        self.fc1 = nn.Linear(64 * 128 * 128, 2)\n",
    "\n",
    "    def forward(self, x):\n",
    "        x = self.pool(F.relu(self.conv1(x)))\n",
    "        x = torch.flatten(x, 1) # flatten all dimensions except batch\n",
    "        x = self.fc1(x)\n",
    "        return x\n",
    "\n",
    "conv_model = ConvNet().to(device)"
   ]
  },
  {
   "cell_type": "code",
   "execution_count": 152,
   "id": "9a27a2da-1329-490a-9996-387704b5d060",
   "metadata": {},
   "outputs": [],
   "source": [
    "criterion = nn.CrossEntropyLoss(weight=class_weights)\n",
    "optimizer = optim.Adam(conv_model.parameters(), lr=lr)"
   ]
  },
  {
   "cell_type": "code",
   "execution_count": 153,
   "id": "ff843704-be89-4869-8f5c-d40b5824cd5d",
   "metadata": {},
   "outputs": [],
   "source": [
    "#wandb.init(project=project, name=run_name, save_code=True)"
   ]
  },
  {
   "cell_type": "code",
   "execution_count": 154,
   "id": "05274e59-476e-4c77-88b9-d50d7b347381",
   "metadata": {},
   "outputs": [],
   "source": [
    "for epoch in range(n_epoch):\n",
    "    running_loss = 0.0\n",
    "    for i, (images, labels) in enumerate(dataloader):\n",
    "        images, labels = images.to(device), labels.to(device)\n",
    "\n",
    "        optimizer.zero_grad()\n",
    "\n",
    "        outputs = conv_model(images)\n",
    "        loss = criterion(outputs, labels)\n",
    "        loss.backward()\n",
    "        optimizer.step()\n",
    "\n",
    "        running_loss += loss.item()\n",
    "        if i % 100 == 99:    # Print every 100 mini-batches\n",
    "            print('[%d, %5d] loss: %.3f' %\n",
    "                  (epoch + 1, i + 1, running_loss / 100))\n",
    "            #wandb.log({'training_loss': running_loss / 100})\n",
    "            running_loss = 0.0"
   ]
  },
  {
   "cell_type": "markdown",
   "id": "23ecad44-6558-4a0f-8a9f-02db7c1cebef",
   "metadata": {},
   "source": [
    "# Test performance"
   ]
  },
  {
   "cell_type": "code",
   "execution_count": 72,
   "id": "279529a8-3de5-40f2-a2cc-63f114e95d91",
   "metadata": {},
   "outputs": [],
   "source": [
    "test_labels = [label_df[label_df[\"unique_id\"]==x][\"label\"].values[0] \n",
    "               for x in test_pixelwise_predictions.keys()]"
   ]
  },
  {
   "cell_type": "code",
   "execution_count": 73,
   "id": "7fab3b76-7c5a-485f-a39a-f8aea65d69d9",
   "metadata": {},
   "outputs": [],
   "source": [
    "test_inputs = np.array(list(test_pixelwise_predictions.values()))"
   ]
  },
  {
   "cell_type": "code",
   "execution_count": 74,
   "id": "e4db478a-86eb-44ae-b32e-c86f52dbcce6",
   "metadata": {},
   "outputs": [],
   "source": [
    "tensor_test_inputs = torch.Tensor(test_inputs)\n",
    "tensor_test_inputs = tensor_test_inputs[:, None, :, :]\n",
    "tensor_test_labels = torch.LongTensor(test_labels)"
   ]
  },
  {
   "cell_type": "code",
   "execution_count": 139,
   "id": "b6e552ef-001e-4541-a894-4856b306d13d",
   "metadata": {},
   "outputs": [],
   "source": [
    "test_dataset_conv = TensorDataset(tensor_test_inputs,tensor_test_labels)"
   ]
  },
  {
   "cell_type": "code",
   "execution_count": 157,
   "id": "3f73132a-53ff-4725-bdbd-9a14e72663c2",
   "metadata": {},
   "outputs": [],
   "source": [
    "test_dataloader_conv = DataLoader(test_dataset_conv, batch_size=batch_size)"
   ]
  },
  {
   "cell_type": "code",
   "execution_count": 158,
   "id": "7780cff6-85b1-40b7-b1f1-c9f9a4ffbb9e",
   "metadata": {},
   "outputs": [],
   "source": [
    "class_proba = []\n",
    "true_labels = []\n",
    "for i, (images, labels) in enumerate(test_dataloader_conv):\n",
    "    images = images.to(device)\n",
    "    outputs = torch.softmax(conv_model(images),dim=-1).cpu().detach()\n",
    "    class_proba.extend(outputs[:,1].tolist())\n",
    "    true_labels.extend(labels.tolist())"
   ]
  },
  {
   "cell_type": "markdown",
   "id": "956fc1a4-a00f-444b-b9e4-2da6fd52bad9",
   "metadata": {},
   "source": [
    "# ROC Curve"
   ]
  },
  {
   "cell_type": "code",
   "execution_count": 159,
   "id": "dade24a0-b5f5-4457-9497-c934bbb9bc43",
   "metadata": {},
   "outputs": [
    {
     "data": {
      "text/plain": [
       "Text(0, 0.5, 'True Positive')"
      ]
     },
     "execution_count": 159,
     "metadata": {},
     "output_type": "execute_result"
    },
    {
     "data": {
      "image/png": "[encoded data removed]",
      "text/plain": [
       "<Figure size 640x480 with 1 Axes>"
      ]
     },
     "metadata": {},
     "output_type": "display_data"
    }
   ],
   "source": [
    "fig,ax = plt.subplots()\n",
    "fpr, tpr, _ = roc_curve(true_labels, class_proba)\n",
    "ax.plot(fpr, tpr)\n",
    "ax.set_title(\"Test ROC\")\n",
    "ax.set_xlabel(\"False Positive\")\n",
    "ax.set_ylabel(\"True Positive\")"
   ]
  },
  {
   "cell_type": "code",
   "execution_count": 160,
   "id": "d2404d22-726a-4acf-a0fa-5fefa2759d63",
   "metadata": {},
   "outputs": [
    {
     "data": {
      "text/plain": [
       "0.7677522124973502"
      ]
     },
     "execution_count": 160,
     "metadata": {},
     "output_type": "execute_result"
    }
   ],
   "source": [
    "roc_auc_score(true_labels, class_proba)"
   ]
  },
  {
   "cell_type": "code",
   "execution_count": 81,
   "id": "f35d9133-9d20-4c97-89a2-c6a3c62af057",
   "metadata": {},
   "outputs": [],
   "source": [
    "def pixelwise_to_prob(pixelwise_preds):\n",
    "    class_proba = {}\n",
    "    for (unique_id,preds) in pixelwise_preds.items():\n",
    "        # average probability\n",
    "        class_proba[unique_id] = np.mean(preds)\n",
    "        #class_proba[unique_id] = np.mean(preds*(preds>0.5))\n",
    "        #class_proba[unique_id] = np.sum((preds>0.5))\n",
    "    return class_proba"
   ]
  },
  {
   "cell_type": "code",
   "execution_count": 82,
   "id": "4e8eb98a-c951-493c-a320-929da87898cd",
   "metadata": {},
   "outputs": [],
   "source": [
    "class_proba = pixelwise_to_prob(test_pixelwise_predictions)"
   ]
  },
  {
   "cell_type": "code",
   "execution_count": 83,
   "id": "32b3b31d-91ec-4fae-8a4f-2fb5b7483297",
   "metadata": {},
   "outputs": [],
   "source": [
    "true_labels = [label_df[label_df[\"unique_id\"]==x][\"label\"].values[0] for x in class_proba.keys()]"
   ]
  },
  {
   "cell_type": "code",
   "execution_count": 84,
   "id": "fcb30e2f-2b26-4f03-80a0-b93e52f57ac0",
   "metadata": {},
   "outputs": [],
   "source": [
    "class_proba = list(class_proba.values())"
   ]
  },
  {
   "cell_type": "code",
   "execution_count": 85,
   "id": "5ca88a34-c5b4-4d98-9524-7bc8af03f304",
   "metadata": {},
   "outputs": [
    {
     "data": {
      "text/plain": [
       "Text(0, 0.5, 'True Positive')"
      ]
     },
     "execution_count": 85,
     "metadata": {},
     "output_type": "execute_result"
    },
    {
     "data": {
      "image/png": "[encoded data removed]",
      "text/plain": [
       "<Figure size 640x480 with 1 Axes>"
      ]
     },
     "metadata": {},
     "output_type": "display_data"
    }
   ],
   "source": [
    "fig,ax = plt.subplots()\n",
    "fpr, tpr, _ = roc_curve(true_labels, class_proba)\n",
    "ax.plot(fpr, tpr)\n",
    "ax.set_title(\"Test ROC\")\n",
    "ax.set_xlabel(\"False Positive\")\n",
    "ax.set_ylabel(\"True Positive\")"
   ]
  },
  {
   "cell_type": "code",
   "execution_count": 86,
   "id": "d65016c2-6b42-4cff-a81d-b1010e77986f",
   "metadata": {},
   "outputs": [
    {
     "data": {
      "text/plain": [
       "0.823870265225169"
      ]
     },
     "execution_count": 86,
     "metadata": {},
     "output_type": "execute_result"
    }
   ],
   "source": [
    "roc_auc_score(true_labels, class_proba)"
   ]
  },
  {
   "cell_type": "code",
   "execution_count": null,
   "id": "703d6b7a-79fe-4914-8bcd-8110b22f4f9a",
   "metadata": {},
   "outputs": [],
   "source": []
  }
 ],
 "metadata": {
  "kernelspec": {
   "display_name": "Python [conda env:miniconda3-geo-ml]",
   "language": "python",
   "name": "conda-env-miniconda3-geo-ml-py"
  },
  "language_info": {
   "codemirror_mode": {
    "name": "ipython",
    "version": 3
   },
   "file_extension": ".py",
   "mimetype": "text/x-python",
   "name": "python",
   "nbconvert_exporter": "python",
   "pygments_lexer": "ipython3",
   "version": "3.11.6"
  }
 },
 "nbformat": 4,
 "nbformat_minor": 5
}
