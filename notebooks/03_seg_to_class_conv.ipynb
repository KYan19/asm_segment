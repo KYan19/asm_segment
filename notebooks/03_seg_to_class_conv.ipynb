{
 "cells": [
  {
   "cell_type": "code",
   "execution_count": 1,
   "id": "313ded3f-37d3-4e29-a657-e69276a24cae",
   "metadata": {},
   "outputs": [],
   "source": [
    "import os\n",
    "import sys\n",
    "import multiprocessing as mp\n",
    "import pickle\n",
    "from pathlib import Path\n",
    "import wandb\n",
    "import torch\n",
    "import geopandas as gpd\n",
    "import pandas as pd\n",
    "import matplotlib.pyplot as plt\n",
    "import torch.optim as optim\n",
    "from segmentation_models_pytorch import Unet\n",
    "from collections import OrderedDict\n",
    "from torch.utils.data import TensorDataset, DataLoader\n",
    "from lightning.pytorch import Trainer\n",
    "from sklearn.metrics import roc_auc_score, roc_curve, auc\n",
    "\n",
    "sys.path.append(\"../scripts/\")\n",
    "from asm_datamodules import *\n",
    "from asm_models import *"
   ]
  },
  {
   "cell_type": "code",
   "execution_count": 2,
   "id": "82b775e5-617a-43c8-92fc-4b5de2d52fc8",
   "metadata": {},
   "outputs": [],
   "source": [
    "%load_ext autoreload\n",
    "%autoreload 2"
   ]
  },
  {
   "cell_type": "markdown",
   "id": "75f4000f-262e-412d-a0c6-6f0f75ed6710",
   "metadata": {},
   "source": [
    "# Load model as artifact from WandB"
   ]
  },
  {
   "cell_type": "code",
   "execution_count": 3,
   "id": "bdb9590d-7282-462c-b21e-5e756a339fcf",
   "metadata": {},
   "outputs": [
    {
     "name": "stderr",
     "output_type": "stream",
     "text": [
      "Failed to detect the name of this notebook, you can set it manually with the WANDB_NOTEBOOK_NAME environment variable to enable code saving.\n",
      "\u001b[34m\u001b[1mwandb\u001b[0m: Currently logged in as: \u001b[33mkayan\u001b[0m (\u001b[33masm_detect\u001b[0m). Use \u001b[1m`wandb login --relogin`\u001b[0m to force relogin\n"
     ]
    },
    {
     "data": {
      "text/html": [
       "wandb version 0.16.4 is available!  To upgrade, please run:\n",
       " $ pip install wandb --upgrade"
      ],
      "text/plain": [
       "<IPython.core.display.HTML object>"
      ]
     },
     "metadata": {},
     "output_type": "display_data"
    },
    {
     "data": {
      "text/html": [
       "Tracking run with wandb version 0.16.0"
      ],
      "text/plain": [
       "<IPython.core.display.HTML object>"
      ]
     },
     "metadata": {},
     "output_type": "display_data"
    },
    {
     "data": {
      "text/html": [
       "Run data is saved locally in <code>/n/home07/kayan/asm/notebooks/wandb/run-20240317_190316-vao7o7et</code>"
      ],
      "text/plain": [
       "<IPython.core.display.HTML object>"
      ]
     },
     "metadata": {},
     "output_type": "display_data"
    },
    {
     "data": {
      "text/html": [
       "Syncing run <strong><a href='https://wandb.ai/asm_detect/asm-notebooks/runs/vao7o7et' target=\"_blank\">efficient-yogurt-12</a></strong> to <a href='https://wandb.ai/asm_detect/asm-notebooks' target=\"_blank\">Weights & Biases</a> (<a href='https://wandb.me/run' target=\"_blank\">docs</a>)<br/>"
      ],
      "text/plain": [
       "<IPython.core.display.HTML object>"
      ]
     },
     "metadata": {},
     "output_type": "display_data"
    },
    {
     "data": {
      "text/html": [
       " View project at <a href='https://wandb.ai/asm_detect/asm-notebooks' target=\"_blank\">https://wandb.ai/asm_detect/asm-notebooks</a>"
      ],
      "text/plain": [
       "<IPython.core.display.HTML object>"
      ]
     },
     "metadata": {},
     "output_type": "display_data"
    },
    {
     "data": {
      "text/html": [
       " View run at <a href='https://wandb.ai/asm_detect/asm-notebooks/runs/vao7o7et' target=\"_blank\">https://wandb.ai/asm_detect/asm-notebooks/runs/vao7o7et</a>"
      ],
      "text/plain": [
       "<IPython.core.display.HTML object>"
      ]
     },
     "metadata": {},
     "output_type": "display_data"
    },
    {
     "name": "stderr",
     "output_type": "stream",
     "text": [
      "\u001b[34m\u001b[1mwandb\u001b[0m: Downloading large artifact model-kln2uxue:v0, 164.20MB. 1 files... \n",
      "\u001b[34m\u001b[1mwandb\u001b[0m:   1 of 1 files downloaded.  \n",
      "Done. 0:0:5.8\n"
     ]
    }
   ],
   "source": [
    "run = wandb.init()\n",
    "artifact = run.use_artifact('asm_detect/ASM_seg_sweep/model-kln2uxue:v0', type='model')\n",
    "artifact_dir = artifact.download()"
   ]
  },
  {
   "cell_type": "code",
   "execution_count": 4,
   "id": "d4045db7-21d2-4468-930a-70f88dd63ad5",
   "metadata": {},
   "outputs": [
    {
     "name": "stdout",
     "output_type": "stream",
     "text": [
      "/n/home07/kayan/asm/notebooks/artifacts/model-kln2uxue:v0\n"
     ]
    }
   ],
   "source": [
    "print(artifact_dir)"
   ]
  },
  {
   "cell_type": "code",
   "execution_count": 5,
   "id": "2ed20432-0cd7-4574-b2eb-31d297669096",
   "metadata": {},
   "outputs": [],
   "source": [
    "artifact_dir = \"/n/home07/kayan/asm/notebooks/artifacts/model-kln2uxue:v0\""
   ]
  },
  {
   "cell_type": "code",
   "execution_count": 6,
   "id": "4e2a1929-891e-47b4-b860-dd4e44174eb6",
   "metadata": {},
   "outputs": [],
   "source": [
    "# create new version of state dict with keys matching unet model\n",
    "state_dict = torch.load(f\"{artifact_dir}/model.ckpt\")[\"state_dict\"]\n",
    "new_state_dict = OrderedDict()\n",
    "for k, v in state_dict.items():\n",
    "    if k[:5] == \"model\":\n",
    "        name = k[6:] # remove `model.`\n",
    "        new_state_dict[name] = v"
   ]
  },
  {
   "cell_type": "code",
   "execution_count": 7,
   "id": "75de4c68-c0b1-4d93-8fd3-64bea123f343",
   "metadata": {},
   "outputs": [
    {
     "data": {
      "text/plain": [
       "<All keys matched successfully>"
      ]
     },
     "execution_count": 7,
     "metadata": {},
     "output_type": "execute_result"
    }
   ],
   "source": [
    "# same parameters as trained model\n",
    "backbone = \"resnet18\"\n",
    "weights = True\n",
    "in_channels=4\n",
    "num_classes=2\n",
    "\n",
    "# load model\n",
    "model = Unet(encoder_name=backbone,\n",
    "            encoder_weights=\"imagenet\" if weights is True else None,\n",
    "            in_channels=in_channels,\n",
    "            classes=num_classes,\n",
    "            )\n",
    "model.load_state_dict(new_state_dict)"
   ]
  },
  {
   "cell_type": "markdown",
   "id": "66e9e533-aebf-446b-b8fa-277f1938b4b8",
   "metadata": {},
   "source": [
    "# Run inference"
   ]
  },
  {
   "cell_type": "code",
   "execution_count": 8,
   "id": "1c8abc79-607e-4f1a-abc7-6c034a39f7da",
   "metadata": {},
   "outputs": [],
   "source": [
    "# datamodule parameters\n",
    "root = \"/n/holyscratch01/tambe_lab/kayan/karena/\"\n",
    "batch_size = 64\n",
    "num_workers = 1\n",
    "mines_only = False\n",
    "split = False\n",
    "split_n = None\n",
    "split_path = \"/n/home07/kayan/asm/data/splits/split_670487\"\n",
    "save_split = False"
   ]
  },
  {
   "cell_type": "code",
   "execution_count": 9,
   "id": "aa30132e-f5f4-4466-936c-32d4f0082380",
   "metadata": {},
   "outputs": [],
   "source": [
    "# get test dataloader from datamodule\n",
    "datamodule = ASMDataModule(batch_size=batch_size, num_workers=num_workers, split=split, split_n=split_n, \n",
    "                           root=root, transforms=min_max_transform, mines_only=mines_only, split_path=split_path)\n",
    "datamodule.setup(\"fit\")\n",
    "train_dataloader = datamodule.train_dataloader()\n",
    "val_dataloader = datamodule.val_dataloader()\n",
    "datamodule.setup(\"test\")\n",
    "test_dataloader = datamodule.test_dataloader()"
   ]
  },
  {
   "cell_type": "code",
   "execution_count": 12,
   "id": "4adf2ef2-3f97-4695-a9f2-66d18bccf8e7",
   "metadata": {},
   "outputs": [],
   "source": [
    "# Put model on evaluation mode and load to local device\n",
    "model.eval()\n",
    "\n",
    "device = torch.device('cuda' if torch.cuda.is_available() else 'cpu')\n",
    "model = model.to(device)"
   ]
  },
  {
   "cell_type": "markdown",
   "id": "f76fc9a7-728b-4915-a079-620c3d688ab4",
   "metadata": {},
   "source": [
    "# Direct image-wide prediction with global averaging"
   ]
  },
  {
   "cell_type": "code",
   "execution_count": 13,
   "id": "e2d0b8f8-c68c-4735-9c19-f9dc53b34780",
   "metadata": {},
   "outputs": [
    {
     "name": "stdout",
     "output_type": "stream",
     "text": [
      "Batch 0\n",
      "Batch 1\n",
      "Batch 2\n",
      "Batch 3\n",
      "Batch 4\n",
      "Batch 5\n",
      "Batch 6\n",
      "Batch 7\n",
      "Batch 8\n",
      "Batch 9\n",
      "Batch 10\n",
      "Batch 11\n",
      "Batch 12\n",
      "Batch 13\n",
      "Batch 14\n",
      "Batch 15\n",
      "Batch 16\n",
      "Batch 17\n",
      "Batch 18\n",
      "Batch 19\n",
      "Batch 20\n",
      "Batch 21\n",
      "Batch 22\n",
      "Batch 23\n",
      "Batch 24\n",
      "Batch 25\n",
      "Batch 26\n",
      "Batch 27\n",
      "Batch 28\n",
      "Batch 29\n",
      "Batch 30\n",
      "Batch 31\n",
      "Batch 32\n",
      "Batch 33\n",
      "Batch 34\n",
      "Batch 35\n",
      "Batch 36\n",
      "Batch 37\n",
      "Batch 38\n",
      "Batch 39\n",
      "Batch 40\n",
      "Batch 41\n",
      "Batch 42\n",
      "Batch 43\n",
      "Batch 44\n",
      "Batch 45\n"
     ]
    }
   ],
   "source": [
    "test_pixelwise_predictions = {}\n",
    "\n",
    "with torch.inference_mode():\n",
    "    for idx,samples in enumerate(test_dataloader):\n",
    "        unique_ids = samples['id']\n",
    "        \n",
    "        # Move input data to the device\n",
    "        inputs = samples['image'].to(device)\n",
    "\n",
    "        # Forward pass\n",
    "        outputs = model(inputs)\n",
    "        outputs = torch.softmax(outputs, dim=1)\n",
    "        #outputs = outputs.argmax(dim=1).squeeze()\n",
    "        \n",
    "        for unique_id,output in zip(unique_ids, outputs):\n",
    "            test_pixelwise_predictions[unique_id] = output[1].cpu().numpy()\n",
    "        print(f\"Batch {idx}\")"
   ]
  },
  {
   "cell_type": "code",
   "execution_count": 51,
   "id": "297eaeae-1d3a-4c2d-9e75-29091b5cf8ff",
   "metadata": {},
   "outputs": [],
   "source": [
    "def pixelwise_to_prob(pixelwise_preds):\n",
    "    class_proba = {}\n",
    "    for (unique_id,preds) in pixelwise_preds.items():\n",
    "        # average probability\n",
    "        class_proba[unique_id] = np.mean(preds)\n",
    "        #class_proba[unique_id] = np.mean(preds*(preds>0.01))\n",
    "        #class_proba[unique_id] = np.sum((preds>0.5))\n",
    "    return class_proba"
   ]
  },
  {
   "cell_type": "code",
   "execution_count": 52,
   "id": "64e70ae1-4d01-4234-8047-2adc919ed01d",
   "metadata": {},
   "outputs": [],
   "source": [
    "class_proba = pixelwise_to_prob(test_pixelwise_predictions)"
   ]
  },
  {
   "cell_type": "code",
   "execution_count": 22,
   "id": "c0d98da5-4d20-4d13-b984-67501d68de72",
   "metadata": {},
   "outputs": [],
   "source": [
    "path=\"/n/home07/kayan/asm/data/filtered_labels.geojson\"\n",
    "label_df = gpd.read_file(path)\n",
    "\n",
    "true_labels = [label_df[label_df[\"unique_id\"]==x][\"label\"].values[0] for x in class_proba.keys()]"
   ]
  },
  {
   "cell_type": "code",
   "execution_count": 53,
   "id": "454fcf8a-3df4-4faa-88f9-e62ae552fab2",
   "metadata": {},
   "outputs": [],
   "source": [
    "class_proba = list(class_proba.values())"
   ]
  },
  {
   "cell_type": "code",
   "execution_count": 54,
   "id": "b37f6b03-160a-457b-8569-43e258af0599",
   "metadata": {},
   "outputs": [
    {
     "data": {
      "text/plain": [
       "Text(0, 0.5, 'True Positive')"
      ]
     },
     "execution_count": 54,
     "metadata": {},
     "output_type": "execute_result"
    },
    {
     "data": {
      "image/png": "[encoded data removed]",
      "text/plain": [
       "<Figure size 640x480 with 1 Axes>"
      ]
     },
     "metadata": {},
     "output_type": "display_data"
    }
   ],
   "source": [
    "fig,ax = plt.subplots()\n",
    "fpr, tpr, _ = roc_curve(true_labels, class_proba)\n",
    "ax.plot(fpr, tpr)\n",
    "ax.set_title(\"Test ROC\")\n",
    "ax.set_xlabel(\"False Positive\")\n",
    "ax.set_ylabel(\"True Positive\")"
   ]
  },
  {
   "cell_type": "code",
   "execution_count": 55,
   "id": "a0ad6b1e-d7e2-42c5-8f9b-ec1dbcfbc315",
   "metadata": {},
   "outputs": [
    {
     "data": {
      "text/plain": [
       "0.8065704585547984"
      ]
     },
     "execution_count": 55,
     "metadata": {},
     "output_type": "execute_result"
    }
   ],
   "source": [
    "roc_auc_score(true_labels, class_proba)"
   ]
  },
  {
   "cell_type": "markdown",
   "id": "26be9d83-92b8-45ab-84d6-a137d5b9332a",
   "metadata": {},
   "source": [
    "# To train conv layer"
   ]
  },
  {
   "cell_type": "code",
   "execution_count": null,
   "id": "7a7a65e9-870e-4c15-97b4-fe749876c8df",
   "metadata": {},
   "outputs": [],
   "source": [
    "train_pixelwise_predictions = {}\n",
    "\n",
    "with torch.inference_mode():\n",
    "    for idx,samples in enumerate(train_dataloader):\n",
    "        unique_ids = samples['id']\n",
    "        \n",
    "        # Move input data to the device\n",
    "        inputs = samples['image'].to(device)\n",
    "\n",
    "        # Forward pass\n",
    "        outputs = model(inputs)\n",
    "        outputs = torch.softmax(outputs, dim=1)\n",
    "        #outputs = outputs.argmax(dim=1).squeeze()\n",
    "        \n",
    "        for unique_id,output in zip(unique_ids, outputs):\n",
    "            train_pixelwise_predictions[unique_id] = output[1].cpu().numpy()\n",
    "        print(f\"Batch {idx}\")"
   ]
  },
  {
   "cell_type": "code",
   "execution_count": 9,
   "id": "6afcbc9c-ead3-4134-8370-204028886cc5",
   "metadata": {},
   "outputs": [
    {
     "name": "stdout",
     "output_type": "stream",
     "text": [
      "Batch 0\n",
      "Batch 1\n",
      "Batch 2\n",
      "Batch 3\n",
      "Batch 4\n",
      "Batch 5\n",
      "Batch 6\n",
      "Batch 7\n",
      "Batch 8\n",
      "Batch 9\n",
      "Batch 10\n",
      "Batch 11\n",
      "Batch 12\n",
      "Batch 13\n",
      "Batch 14\n",
      "Batch 15\n",
      "Batch 16\n",
      "Batch 17\n",
      "Batch 18\n",
      "Batch 19\n",
      "Batch 20\n",
      "Batch 21\n",
      "Batch 22\n",
      "Batch 23\n",
      "Batch 24\n",
      "Batch 25\n",
      "Batch 26\n",
      "Batch 27\n",
      "Batch 28\n",
      "Batch 29\n",
      "Batch 30\n",
      "Batch 31\n",
      "Batch 32\n",
      "Batch 33\n",
      "Batch 34\n"
     ]
    }
   ],
   "source": [
    "val_pixelwise_predictions = {}\n",
    "\n",
    "with torch.inference_mode():\n",
    "    for idx,samples in enumerate(val_dataloader):\n",
    "        unique_ids = samples['id']\n",
    "        \n",
    "        # Move input data to the device\n",
    "        inputs = samples['image'].to(device)\n",
    "\n",
    "        # Forward pass\n",
    "        outputs = model(inputs)\n",
    "        outputs = torch.softmax(outputs, dim=1)\n",
    "        #outputs = outputs.argmax(dim=1).squeeze()\n",
    "        \n",
    "        for unique_id,output in zip(unique_ids, outputs):\n",
    "            val_pixelwise_predictions[unique_id] = output[1].cpu().numpy()\n",
    "        print(f\"Batch {idx}\")"
   ]
  },
  {
   "cell_type": "markdown",
   "id": "95486011-327e-499a-a8cd-9cff40dc531a",
   "metadata": {},
   "source": [
    "# Train convolutional layer"
   ]
  },
  {
   "cell_type": "code",
   "execution_count": 14,
   "id": "7d5d215d-e377-4e19-985d-29c52e5dfec7",
   "metadata": {},
   "outputs": [],
   "source": [
    "path=\"/n/home07/kayan/asm/data/filtered_labels.geojson\"\n",
    "label_df = gpd.read_file(path)\n",
    "\n",
    "labels = [label_df[label_df[\"unique_id\"]==x][\"label\"].values[0] for x in train_pixelwise_predictions.keys()]"
   ]
  },
  {
   "cell_type": "code",
   "execution_count": 16,
   "id": "4f6fcc74-f9c5-4219-afb6-a25130bc536a",
   "metadata": {},
   "outputs": [
    {
     "data": {
      "text/plain": [
       "4.734888653234359"
      ]
     },
     "execution_count": 16,
     "metadata": {},
     "output_type": "execute_result"
    }
   ],
   "source": [
    "len(labels)/sum(labels)"
   ]
  },
  {
   "cell_type": "code",
   "execution_count": 17,
   "id": "388e2f75-8bc8-4219-a21e-ab791d0cf6a5",
   "metadata": {},
   "outputs": [
    {
     "data": {
      "text/plain": [
       "1.2677455990914253"
      ]
     },
     "execution_count": 17,
     "metadata": {},
     "output_type": "execute_result"
    }
   ],
   "source": [
    "len(labels)/(len(labels)-sum(labels))"
   ]
  },
  {
   "cell_type": "code",
   "execution_count": 91,
   "id": "7e146633-4447-49ad-b1b5-c572c3352be2",
   "metadata": {},
   "outputs": [],
   "source": [
    "# training parameters\n",
    "batch_size = 64\n",
    "lr = 0.0001\n",
    "n_epoch = 10\n",
    "class_weights = torch.Tensor([1/6,5/6]).to(device)"
   ]
  },
  {
   "cell_type": "code",
   "execution_count": 20,
   "id": "af8304aa-22e0-4400-b1df-5aa4c2a66800",
   "metadata": {},
   "outputs": [],
   "source": [
    "inputs = np.array(list(train_pixelwise_predictions.values()))"
   ]
  },
  {
   "cell_type": "code",
   "execution_count": 21,
   "id": "d7815e6d-161f-470a-a39f-e4f7954d5a12",
   "metadata": {},
   "outputs": [],
   "source": [
    "tensor_inputs = torch.Tensor(inputs)\n",
    "tensor_inputs = tensor_inputs[:, None, :, :]\n",
    "tensor_labels = torch.LongTensor(labels)"
   ]
  },
  {
   "cell_type": "code",
   "execution_count": 92,
   "id": "70f1f9c2-ac6e-4fe5-a512-e3fae0c1fcd4",
   "metadata": {},
   "outputs": [],
   "source": [
    "dataset = TensorDataset(tensor_inputs,tensor_labels)\n",
    "dataloader = DataLoader(dataset, batch_size=batch_size, shuffle=True)"
   ]
  },
  {
   "cell_type": "code",
   "execution_count": 93,
   "id": "cc40f8da-3b89-48e2-9608-7eb19ee2b0ba",
   "metadata": {},
   "outputs": [],
   "source": [
    "class ConvNet(nn.Module):\n",
    "    def __init__(self):\n",
    "        super().__init__()\n",
    "        self.conv1 = nn.Conv2d(1, 16, 3)\n",
    "        self.pool = nn.MaxPool2d(2, 2)\n",
    "        self.conv2 = nn.Conv2d(16, 32, 3)\n",
    "        self.conv3 = nn.Conv2d(32, 64, 3)\n",
    "        self.fc1 = nn.Linear(64 * 30 * 30, 2)\n",
    "\n",
    "    def forward(self, x):\n",
    "        x = self.pool(F.relu(self.conv1(x)))\n",
    "        x = self.pool(F.relu(self.conv2(x)))\n",
    "        x = self.pool(F.relu(self.conv3(x)))\n",
    "        x = torch.flatten(x, 1) # flatten all dimensions except batch\n",
    "        x = self.fc1(x)\n",
    "        return x\n",
    "\n",
    "conv_model = ConvNet().to(device)"
   ]
  },
  {
   "cell_type": "code",
   "execution_count": 94,
   "id": "17df0bfc-d680-4268-979b-3283ba043b84",
   "metadata": {},
   "outputs": [],
   "source": [
    "criterion = nn.CrossEntropyLoss(weight=class_weights)\n",
    "optimizer = optim.Adam(conv_model.parameters(), lr=lr)"
   ]
  },
  {
   "cell_type": "code",
   "execution_count": 95,
   "id": "d3f91e03-e3a6-42a3-ab00-bf9b64c89d9c",
   "metadata": {},
   "outputs": [
    {
     "name": "stdout",
     "output_type": "stream",
     "text": [
      "[1,   100] loss: 0.613\n",
      "[2,   100] loss: 0.511\n",
      "[3,   100] loss: 0.511\n",
      "[4,   100] loss: 0.497\n",
      "[5,   100] loss: 0.510\n",
      "[6,   100] loss: 0.505\n",
      "[7,   100] loss: 0.500\n",
      "[8,   100] loss: 0.501\n",
      "[9,   100] loss: 0.503\n",
      "[10,   100] loss: 0.497\n"
     ]
    }
   ],
   "source": [
    "for epoch in range(n_epoch):\n",
    "    running_loss = 0.0\n",
    "    for i, (images, labels) in enumerate(dataloader):\n",
    "        images, labels = images.to(device), labels.to(device)\n",
    "\n",
    "        optimizer.zero_grad()\n",
    "\n",
    "        outputs = conv_model(images)\n",
    "        loss = criterion(outputs, labels)\n",
    "        loss.backward()\n",
    "        optimizer.step()\n",
    "\n",
    "        running_loss += loss.item()\n",
    "        if i % 100 == 99:    # Print every 100 mini-batches\n",
    "            print('[%d, %5d] loss: %.3f' %\n",
    "                  (epoch + 1, i + 1, running_loss / 100))\n",
    "            #wandb.log({'training_loss': running_loss / 100})\n",
    "            running_loss = 0.0"
   ]
  },
  {
   "cell_type": "markdown",
   "id": "2504ac55-36da-4834-85f8-8977e3d8d4ba",
   "metadata": {},
   "source": [
    "# Test performance"
   ]
  },
  {
   "cell_type": "code",
   "execution_count": 42,
   "id": "843ee3c4-5b53-4d62-b3e3-f5f3f1620a47",
   "metadata": {},
   "outputs": [],
   "source": [
    "data_dir = \"/n/home07/kayan/asm/data/\"\n",
    "suffix = \"_focal\"\n",
    "with open(data_dir+\"test_seg_preds\"+suffix, 'rb') as handle:\n",
    "    test_pixelwise_predictions = pickle.load(handle)"
   ]
  },
  {
   "cell_type": "code",
   "execution_count": 43,
   "id": "f079b198-c04b-4ea6-934a-7a5598f1c9ee",
   "metadata": {},
   "outputs": [],
   "source": [
    "test_labels = [label_df[label_df[\"unique_id\"]==x][\"label\"].values[0] \n",
    "               for x in test_pixelwise_predictions.keys()]"
   ]
  },
  {
   "cell_type": "code",
   "execution_count": 44,
   "id": "52e29c2a-af93-4586-83ce-908e3b1dc897",
   "metadata": {},
   "outputs": [],
   "source": [
    "test_inputs = np.array(list(test_pixelwise_predictions.values()))"
   ]
  },
  {
   "cell_type": "code",
   "execution_count": 45,
   "id": "8dd78edd-09e5-4c14-a6ad-f99fee2baadb",
   "metadata": {},
   "outputs": [],
   "source": [
    "tensor_test_inputs = torch.Tensor(test_inputs)\n",
    "tensor_test_inputs = tensor_test_inputs[:, None, :, :]\n",
    "tensor_test_labels = torch.LongTensor(test_labels)"
   ]
  },
  {
   "cell_type": "code",
   "execution_count": 46,
   "id": "d508da61-359e-470f-8875-dbeb1bac163e",
   "metadata": {},
   "outputs": [],
   "source": [
    "test_dataset_conv = TensorDataset(tensor_test_inputs,tensor_test_labels)"
   ]
  },
  {
   "cell_type": "code",
   "execution_count": 96,
   "id": "6dca020a-ea1c-4c17-99a0-53cb91dd1b58",
   "metadata": {},
   "outputs": [],
   "source": [
    "test_dataloader_conv = DataLoader(test_dataset_conv, batch_size=batch_size)"
   ]
  },
  {
   "cell_type": "code",
   "execution_count": 97,
   "id": "cbbf873e-f0c6-47e4-a680-80661fda1062",
   "metadata": {},
   "outputs": [],
   "source": [
    "class_proba = []\n",
    "true_labels = []\n",
    "for i, (images, labels) in enumerate(test_dataloader_conv):\n",
    "    images = images.to(device)\n",
    "    outputs = torch.softmax(conv_model(images),dim=-1).cpu().detach()\n",
    "    class_proba.extend(outputs[:,1].tolist())\n",
    "    true_labels.extend(labels.tolist())"
   ]
  },
  {
   "cell_type": "markdown",
   "id": "d3c26634-8fa0-4a95-ad64-90c862386551",
   "metadata": {},
   "source": [
    "# ROC Curve"
   ]
  },
  {
   "cell_type": "code",
   "execution_count": 98,
   "id": "dfce5a89-d7e1-42c0-bacf-739226e1c4c7",
   "metadata": {},
   "outputs": [
    {
     "data": {
      "text/plain": [
       "Text(0, 0.5, 'True Positive')"
      ]
     },
     "execution_count": 98,
     "metadata": {},
     "output_type": "execute_result"
    },
    {
     "data": {
      "image/png": "[encoded data removed]",
      "text/plain": [
       "<Figure size 640x480 with 1 Axes>"
      ]
     },
     "metadata": {},
     "output_type": "display_data"
    }
   ],
   "source": [
    "fig,ax = plt.subplots()\n",
    "fpr, tpr, _ = roc_curve(true_labels, class_proba)\n",
    "ax.plot(fpr, tpr)\n",
    "ax.set_title(\"Test ROC\")\n",
    "ax.set_xlabel(\"False Positive\")\n",
    "ax.set_ylabel(\"True Positive\")"
   ]
  },
  {
   "cell_type": "code",
   "execution_count": 99,
   "id": "0d1b9baf-fbfa-41a8-adc1-e9c09c1fd083",
   "metadata": {},
   "outputs": [
    {
     "data": {
      "text/plain": [
       "0.8323801489049641"
      ]
     },
     "execution_count": 99,
     "metadata": {},
     "output_type": "execute_result"
    }
   ],
   "source": [
    "roc_auc_score(true_labels, class_proba)"
   ]
  },
  {
   "cell_type": "markdown",
   "id": "90224f70-c849-4a21-80bc-36f13042371e",
   "metadata": {
    "tags": []
   },
   "source": [
    "# Convert pixelwise predictions to image-wide label"
   ]
  },
  {
   "cell_type": "code",
   "execution_count": 11,
   "id": "cf0147a3-f71b-4116-a5b6-9099c53d72c6",
   "metadata": {},
   "outputs": [],
   "source": [
    "def pixelwise_to_prob(pixelwise_preds):\n",
    "    class_proba = {}\n",
    "    for (unique_id,preds) in pixelwise_preds.items():\n",
    "        # average probability\n",
    "        class_proba[unique_id] = np.mean(preds)\n",
    "        #class_proba[unique_id] = np.mean(preds*(preds>0.5))\n",
    "        #class_proba[unique_id] = np.sum((preds>0.5))\n",
    "    return class_proba"
   ]
  },
  {
   "cell_type": "code",
   "execution_count": 12,
   "id": "e837d1e8-abc8-4abe-8681-b30206f40e75",
   "metadata": {},
   "outputs": [],
   "source": [
    "class_proba = pixelwise_to_prob(pixelwise_predictions)"
   ]
  },
  {
   "cell_type": "code",
   "execution_count": 13,
   "id": "e236892d-a0d1-4e92-b5d9-ecdbad4f2a23",
   "metadata": {},
   "outputs": [],
   "source": [
    "path=\"/n/home07/kayan/asm/data/filtered_labels.geojson\"\n",
    "label_df = gpd.read_file(path)\n",
    "\n",
    "true_labels = [label_df[label_df[\"unique_id\"]==x][\"label\"].values[0] for x in class_proba.keys()]"
   ]
  },
  {
   "cell_type": "code",
   "execution_count": 14,
   "id": "fd91dda4-0032-44ce-a223-02c0bfc27d3f",
   "metadata": {},
   "outputs": [],
   "source": [
    "class_proba = list(class_proba.values())"
   ]
  },
  {
   "cell_type": "code",
   "execution_count": 15,
   "id": "319a954b-bc48-4b9e-8e45-2d7a043a5851",
   "metadata": {},
   "outputs": [
    {
     "data": {
      "text/plain": [
       "Text(0, 0.5, 'True Positive')"
      ]
     },
     "execution_count": 15,
     "metadata": {},
     "output_type": "execute_result"
    },
    {
     "data": {
      "image/png": "[encoded data removed]",
      "text/plain": [
       "<Figure size 640x480 with 1 Axes>"
      ]
     },
     "metadata": {},
     "output_type": "display_data"
    }
   ],
   "source": [
    "fig,ax = plt.subplots()\n",
    "fpr, tpr, _ = roc_curve(true_labels, class_proba)\n",
    "ax.plot(fpr, tpr)\n",
    "ax.set_title(\"Test ROC\")\n",
    "ax.set_xlabel(\"False Positive\")\n",
    "ax.set_ylabel(\"True Positive\")"
   ]
  },
  {
   "cell_type": "code",
   "execution_count": 16,
   "id": "761f54a3-7e7d-499d-885f-052898327e6f",
   "metadata": {},
   "outputs": [
    {
     "data": {
      "text/plain": [
       "0.8277890160837248"
      ]
     },
     "execution_count": 16,
     "metadata": {},
     "output_type": "execute_result"
    }
   ],
   "source": [
    "roc_auc_score(true_labels, class_proba)"
   ]
  },
  {
   "cell_type": "markdown",
   "id": "ee2a2487-c3c5-47ca-9570-beb9cef49391",
   "metadata": {},
   "source": [
    "## Investigating predictions"
   ]
  },
  {
   "cell_type": "code",
   "execution_count": 17,
   "id": "6dcf02f1-71db-418d-8f6a-dc94ee2228dd",
   "metadata": {},
   "outputs": [
    {
     "data": {
      "text/plain": [
       "[0.0, 0.0, 0.0, 1.0, 0.0, 0.0, 0.0, 1.0, 0.0, 0.0]"
      ]
     },
     "execution_count": 17,
     "metadata": {},
     "output_type": "execute_result"
    }
   ],
   "source": [
    "true_labels[0:10]"
   ]
  },
  {
   "cell_type": "code",
   "execution_count": 18,
   "id": "826449a5-86c1-4710-810e-6b95c6327617",
   "metadata": {},
   "outputs": [
    {
     "data": {
      "text/plain": [
       "['lat_-1--745__lon_33--985',\n",
       " 'lat_1--965__lon_27--345',\n",
       " 'lat_-1--315__lon_26--495',\n",
       " 'lat_7--735__lon_-11--935',\n",
       " 'lat_0--785__lon_29--115',\n",
       " 'lat_4--185__lon_16--045',\n",
       " 'lat_-8--175__lon_26--865',\n",
       " 'lat_8--635__lon_-11--265',\n",
       " 'lat_9--685__lon_-12--285',\n",
       " 'lat_-6--755__lon_19--835']"
      ]
     },
     "execution_count": 18,
     "metadata": {},
     "output_type": "execute_result"
    }
   ],
   "source": [
    "list(pixelwise_predictions.keys())[0:10]"
   ]
  },
  {
   "cell_type": "code",
   "execution_count": 20,
   "id": "b2157391-c7f4-438b-b76f-e8a60b116a3e",
   "metadata": {},
   "outputs": [
    {
     "data": {
      "text/plain": [
       "<matplotlib.image.AxesImage at 0x14adac1f60d0>"
      ]
     },
     "execution_count": 20,
     "metadata": {},
     "output_type": "execute_result"
    },
    {
     "data": {
      "image/png": "[encoded data removed]",
      "text/plain": [
       "<Figure size 640x480 with 1 Axes>"
      ]
     },
     "metadata": {},
     "output_type": "display_data"
    }
   ],
   "source": [
    "plt.imshow(pixelwise_predictions['lat_7--735__lon_-11--935']>0.3,cmap=\"gray\")"
   ]
  },
  {
   "cell_type": "code",
   "execution_count": 10,
   "id": "9e2d7fce-5f22-46fc-9070-cf7f4e679375",
   "metadata": {},
   "outputs": [],
   "source": [
    "data_dir = \"/n/home07/kayan/asm/data/\"\n",
    "suffix = \"_focal\"\n",
    "with open(data_dir+\"val_seg_preds\"+suffix, 'wb') as handle:\n",
    "    pickle.dump(val_pixelwise_predictions, handle, protocol=pickle.HIGHEST_PROTOCOL)"
   ]
  },
  {
   "cell_type": "markdown",
   "id": "dfec4e10-af29-47cc-a203-c971fb271dbe",
   "metadata": {},
   "source": [
    "# Test Lightning module "
   ]
  },
  {
   "cell_type": "code",
   "execution_count": 51,
   "id": "cddbc00f-90bd-4afe-820f-2fa823531f18",
   "metadata": {},
   "outputs": [],
   "source": [
    "n_epoch = 5\n",
    "class_weights = [1/6,5/6]\n",
    "lr = 0.0001\n",
    "weight_decay = 0.01"
   ]
  },
  {
   "cell_type": "code",
   "execution_count": 13,
   "id": "31f331ac-bd26-4c4d-bd54-c4eaf305c265",
   "metadata": {},
   "outputs": [
    {
     "name": "stdout",
     "output_type": "stream",
     "text": [
      "Running on 1 cuda(s) with 4 cpus\n"
     ]
    }
   ],
   "source": [
    "# device configuration\n",
    "device, num_devices = (\"cuda\", torch.cuda.device_count()) if torch.cuda.is_available() else (\"cpu\", len(os.sched_getaffinity(0)))\n",
    "workers = len(os.sched_getaffinity(0))\n",
    "print(f\"Running on {num_devices} {device}(s) with {workers} cpus\")"
   ]
  },
  {
   "cell_type": "code",
   "execution_count": 16,
   "id": "ae3e29d1-414f-4c48-ab88-a07ceae9c9e6",
   "metadata": {},
   "outputs": [],
   "source": [
    "# ---PREPARE DATA---\n",
    "data_dir = \"/n/home07/kayan/asm/data/\"\n",
    "suffix = \"_focal\"\n",
    "with open(data_dir+\"train_seg_preds\"+suffix, 'rb') as handle:\n",
    "    train_pixelwise_predictions = pickle.load(handle)\n",
    "with open(data_dir+\"val_seg_preds\"+suffix, 'rb') as handle:\n",
    "    val_pixelwise_predictions = pickle.load(handle)\n",
    "with open(data_dir+\"test_seg_preds\"+suffix, 'rb') as handle:\n",
    "    test_pixelwise_predictions = pickle.load(handle)"
   ]
  },
  {
   "cell_type": "code",
   "execution_count": 21,
   "id": "fbcb27bf-7ef5-48e3-9de9-8081e8469288",
   "metadata": {},
   "outputs": [],
   "source": [
    "# datamodule configuration\n",
    "batch_size = 64\n",
    "\n",
    "# set up dataloaders\n",
    "train_dataloader = get_conv_dataloader(train_pixelwise_predictions, batch_size=batch_size, split=\"train\")\n",
    "val_dataloader = get_conv_dataloader(val_pixelwise_predictions, batch_size=batch_size, split=\"val\")\n",
    "test_dataloader = get_conv_dataloader(test_pixelwise_predictions, batch_size=batch_size, split=\"test\")"
   ]
  },
  {
   "cell_type": "code",
   "execution_count": 52,
   "id": "c6502779-23ef-4617-a00f-1fe86c028146",
   "metadata": {},
   "outputs": [],
   "source": [
    "model = LightningConvNet(class_weights=class_weights, lr=lr, weight_decay=weight_decay)"
   ]
  },
  {
   "cell_type": "code",
   "execution_count": 53,
   "id": "165e2664-cd79-48e1-b62d-6a5d726f4890",
   "metadata": {},
   "outputs": [
    {
     "name": "stderr",
     "output_type": "stream",
     "text": [
      "GPU available: True (cuda), used: True\n",
      "TPU available: False, using: 0 TPU cores\n",
      "IPU available: False, using: 0 IPUs\n",
      "HPU available: False, using: 0 HPUs\n"
     ]
    }
   ],
   "source": [
    "trainer = Trainer(\n",
    "            accelerator=device,\n",
    "            devices=num_devices,\n",
    "            max_epochs=n_epoch,\n",
    "            logger=None\n",
    "        )"
   ]
  },
  {
   "cell_type": "code",
   "execution_count": 54,
   "id": "ad2d00fc-d826-4268-9b4a-2ae438597972",
   "metadata": {},
   "outputs": [
    {
     "name": "stderr",
     "output_type": "stream",
     "text": [
      "LOCAL_RANK: 0 - CUDA_VISIBLE_DEVICES: [MIG-94df735d-54d3-575a-b9cd-d15faa82c62f]\n",
      "\n",
      "  | Name      | Type             | Params\n",
      "-----------------------------------------------\n",
      "0 | model     | ConvNet          | 138 K \n",
      "1 | criterion | CrossEntropyLoss | 0     \n",
      "-----------------------------------------------\n",
      "138 K     Trainable params\n",
      "0         Non-trainable params\n",
      "138 K     Total params\n",
      "0.554     Total estimated model params size (MB)\n"
     ]
    },
    {
     "data": {
      "application/vnd.jupyter.widget-view+json": {
       "model_id": "2bd004da27d6437e89e49b81a51f132c",
       "version_major": 2,
       "version_minor": 0
      },
      "text/plain": [
       "Sanity Checking: |          | 0/? [00:00<?, ?it/s]"
      ]
     },
     "metadata": {},
     "output_type": "display_data"
    },
    {
     "data": {
      "application/vnd.jupyter.widget-view+json": {
       "model_id": "c893e8cf4ba545f6a1a4d197c4d02477",
       "version_major": 2,
       "version_minor": 0
      },
      "text/plain": [
       "Training: |          | 0/? [00:00<?, ?it/s]"
      ]
     },
     "metadata": {},
     "output_type": "display_data"
    },
    {
     "data": {
      "application/vnd.jupyter.widget-view+json": {
       "model_id": "f8de700832bc4e939c877070deeda7ef",
       "version_major": 2,
       "version_minor": 0
      },
      "text/plain": [
       "Validation: |          | 0/? [00:00<?, ?it/s]"
      ]
     },
     "metadata": {},
     "output_type": "display_data"
    },
    {
     "data": {
      "application/vnd.jupyter.widget-view+json": {
       "model_id": "9b1489f3820942acac47a5916d1af671",
       "version_major": 2,
       "version_minor": 0
      },
      "text/plain": [
       "Validation: |          | 0/? [00:00<?, ?it/s]"
      ]
     },
     "metadata": {},
     "output_type": "display_data"
    },
    {
     "data": {
      "application/vnd.jupyter.widget-view+json": {
       "model_id": "0893b361f9d54d89a91d88788a0cfb34",
       "version_major": 2,
       "version_minor": 0
      },
      "text/plain": [
       "Validation: |          | 0/? [00:00<?, ?it/s]"
      ]
     },
     "metadata": {},
     "output_type": "display_data"
    },
    {
     "data": {
      "application/vnd.jupyter.widget-view+json": {
       "model_id": "0d9605be54374c028ea7d24436aa955f",
       "version_major": 2,
       "version_minor": 0
      },
      "text/plain": [
       "Validation: |          | 0/? [00:00<?, ?it/s]"
      ]
     },
     "metadata": {},
     "output_type": "display_data"
    },
    {
     "data": {
      "application/vnd.jupyter.widget-view+json": {
       "model_id": "013e3fa37e6145f7a998c05cabb7846d",
       "version_major": 2,
       "version_minor": 0
      },
      "text/plain": [
       "Validation: |          | 0/? [00:00<?, ?it/s]"
      ]
     },
     "metadata": {},
     "output_type": "display_data"
    },
    {
     "name": "stderr",
     "output_type": "stream",
     "text": [
      "`Trainer.fit` stopped: `max_epochs=5` reached.\n"
     ]
    }
   ],
   "source": [
    "trainer.fit(model=model, train_dataloaders=train_dataloader, val_dataloaders=val_dataloader)"
   ]
  },
  {
   "cell_type": "code",
   "execution_count": 55,
   "id": "f9f43c06-af9f-436c-9b68-f3c6a57472dd",
   "metadata": {},
   "outputs": [
    {
     "name": "stderr",
     "output_type": "stream",
     "text": [
      "LOCAL_RANK: 0 - CUDA_VISIBLE_DEVICES: [MIG-94df735d-54d3-575a-b9cd-d15faa82c62f]\n",
      "/n/home07/kayan/miniconda3/envs/geo-ml/lib/python3.11/site-packages/lightning/pytorch/trainer/connectors/data_connector.py:441: The 'test_dataloader' does not have many workers which may be a bottleneck. Consider increasing the value of the `num_workers` argument` to `num_workers=3` in the `DataLoader` to improve performance.\n"
     ]
    },
    {
     "data": {
      "application/vnd.jupyter.widget-view+json": {
       "model_id": "8bfaf597ccc446a4a9f06c6ca2af6fb4",
       "version_major": 2,
       "version_minor": 0
      },
      "text/plain": [
       "Testing: |          | 0/? [00:00<?, ?it/s]"
      ]
     },
     "metadata": {},
     "output_type": "display_data"
    },
    {
     "data": {
      "text/html": [
       "<pre style=\"white-space:pre;overflow-x:auto;line-height:normal;font-family:Menlo,'DejaVu Sans Mono',consolas,'Courier New',monospace\">┏━━━━━━━━━━━━━━━━━━━━━━━━━━━┳━━━━━━━━━━━━━━━━━━━━━━━━━━━┓\n",
       "┃<span style=\"font-weight: bold\">        Test metric        </span>┃<span style=\"font-weight: bold\">       DataLoader 0        </span>┃\n",
       "┡━━━━━━━━━━━━━━━━━━━━━━━━━━━╇━━━━━━━━━━━━━━━━━━━━━━━━━━━┩\n",
       "│<span style=\"color: #008080; text-decoration-color: #008080\">         test_loss         </span>│<span style=\"color: #800080; text-decoration-color: #800080\">    0.5809119939804077     </span>│\n",
       "└───────────────────────────┴───────────────────────────┘\n",
       "</pre>\n"
      ],
      "text/plain": [
       "┏━━━━━━━━━━━━━━━━━━━━━━━━━━━┳━━━━━━━━━━━━━━━━━━━━━━━━━━━┓\n",
       "┃\u001b[1m \u001b[0m\u001b[1m       Test metric       \u001b[0m\u001b[1m \u001b[0m┃\u001b[1m \u001b[0m\u001b[1m      DataLoader 0       \u001b[0m\u001b[1m \u001b[0m┃\n",
       "┡━━━━━━━━━━━━━━━━━━━━━━━━━━━╇━━━━━━━━━━━━━━━━━━━━━━━━━━━┩\n",
       "│\u001b[36m \u001b[0m\u001b[36m        test_loss        \u001b[0m\u001b[36m \u001b[0m│\u001b[35m \u001b[0m\u001b[35m   0.5809119939804077    \u001b[0m\u001b[35m \u001b[0m│\n",
       "└───────────────────────────┴───────────────────────────┘\n"
      ]
     },
     "metadata": {},
     "output_type": "display_data"
    },
    {
     "data": {
      "text/plain": [
       "[{'test_loss': 0.5809119939804077}]"
      ]
     },
     "execution_count": 55,
     "metadata": {},
     "output_type": "execute_result"
    }
   ],
   "source": [
    "trainer.test(model=model, dataloaders=test_dataloader)"
   ]
  },
  {
   "cell_type": "code",
   "execution_count": 57,
   "id": "2e7f287e-4ed0-464c-8272-0ae99f4b568f",
   "metadata": {},
   "outputs": [],
   "source": [
    "class_proba = []\n",
    "true_labels = []\n",
    "for i, (images, labels) in enumerate(test_dataloader):\n",
    "    images = images.to(device)\n",
    "    outputs = torch.softmax(model.to(device)(images),dim=-1).cpu().detach()\n",
    "    class_proba.extend(outputs[:,1].tolist())\n",
    "    true_labels.extend(labels.tolist())"
   ]
  },
  {
   "cell_type": "code",
   "execution_count": 58,
   "id": "edcbd7c5-9114-46f8-a33b-dc5d570b7410",
   "metadata": {},
   "outputs": [
    {
     "data": {
      "text/plain": [
       "Text(0, 0.5, 'True Positive')"
      ]
     },
     "execution_count": 58,
     "metadata": {},
     "output_type": "execute_result"
    },
    {
     "data": {
      "image/png": "[encoded data removed]",
      "text/plain": [
       "<Figure size 640x480 with 1 Axes>"
      ]
     },
     "metadata": {},
     "output_type": "display_data"
    }
   ],
   "source": [
    "fig,ax = plt.subplots()\n",
    "fpr, tpr, _ = roc_curve(true_labels, class_proba)\n",
    "ax.plot(fpr, tpr)\n",
    "ax.set_title(\"Test ROC\")\n",
    "ax.set_xlabel(\"False Positive\")\n",
    "ax.set_ylabel(\"True Positive\")"
   ]
  },
  {
   "cell_type": "code",
   "execution_count": 59,
   "id": "2cbc8dce-3049-4fe7-be68-62f7c8de73fd",
   "metadata": {},
   "outputs": [
    {
     "data": {
      "text/plain": [
       "0.8315007644119621"
      ]
     },
     "execution_count": 59,
     "metadata": {},
     "output_type": "execute_result"
    }
   ],
   "source": [
    "roc_auc_score(true_labels, class_proba)"
   ]
  },
  {
   "cell_type": "code",
   "execution_count": null,
   "id": "d405732a-65ec-45c1-b6e5-629ee0036f45",
   "metadata": {},
   "outputs": [],
   "source": []
  }
 ],
 "metadata": {
  "kernelspec": {
   "display_name": "Python [conda env:miniconda3-geo-ml]",
   "language": "python",
   "name": "conda-env-miniconda3-geo-ml-py"
  },
  "language_info": {
   "codemirror_mode": {
    "name": "ipython",
    "version": 3
   },
   "file_extension": ".py",
   "mimetype": "text/x-python",
   "name": "python",
   "nbconvert_exporter": "python",
   "pygments_lexer": "ipython3",
   "version": "3.11.6"
  }
 },
 "nbformat": 4,
 "nbformat_minor": 5
}
