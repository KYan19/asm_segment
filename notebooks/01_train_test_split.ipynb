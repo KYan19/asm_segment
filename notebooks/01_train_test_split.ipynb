{
 "cells": [
  {
   "cell_type": "code",
   "execution_count": 1,
   "id": "9bba688a-2b22-4fb2-99c5-68b50d8b5eab",
   "metadata": {},
   "outputs": [],
   "source": [
    "import pickle\n",
    "import geopandas as gpd\n",
    "import numpy as np\n",
    "from sklearn.model_selection import train_test_split"
   ]
  },
  {
   "cell_type": "code",
   "execution_count": 1,
   "id": "b0ba5b96-f288-4401-a9cd-154e2c614274",
   "metadata": {},
   "outputs": [],
   "source": [
    "def split_data(\n",
    "    path=\"/n/home07/kayan/asm/data/filtered_labels.geojson\", \n",
    "    stratify_col=\"country\", \n",
    "    save = True,\n",
    "    out_path = \"/n/home07/kayan/asm/data/train_test_split\",\n",
    "    n = None\n",
    "):\n",
    "    \n",
    "    label_df = gpd.read_file(path)\n",
    "    if n is not None:\n",
    "        label_df = label_df.head(n)\n",
    "    \n",
    "    # split into train/val and test\n",
    "    train, test = train_test_split(label_df, \n",
    "                stratify=label_df[stratify_col] if stratify_col is not None else None,\n",
    "                test_size=0.2\n",
    "            )\n",
    "    # split further into train and val\n",
    "    train, val = train_test_split(train,\n",
    "                stratify=train[stratify_col] if stratify_col is not None else None,\n",
    "                test_size=0.2)\n",
    "                                  \n",
    "    # get unique identifiers for each split\n",
    "    train_ids = train[\"unique_id\"].values\n",
    "    val_ids = val[\"unique_id\"].values\n",
    "    test_ids = test[\"unique_id\"].values\n",
    "    print(f\"Split with {len(train_ids)} train images, {len(val_ids)} validation images, and {len(test_ids)} test images\")\n",
    "    print(f\"Mine proportions\\n Train: {len(train[train['label']==1.0])/len(train)}\")\n",
    "    print(f\" Validation: {len(val[val['label']==1.0])/len(val)}\")\n",
    "    print(f\" Test: {len(test[test['label']==1.0])/len(test)}\")\n",
    "    split_ids = {\"train\": train_ids, \"val\": val_ids, \"test\":test_ids}\n",
    "    \n",
    "    if save:\n",
    "        # save as pickle file\n",
    "        with open(out_path, 'wb') as handle:\n",
    "            pickle.dump(split_ids, handle, protocol=pickle.HIGHEST_PROTOCOL)\n",
    "    return split_ids"
   ]
  },
  {
   "cell_type": "code",
   "execution_count": 4,
   "id": "2cdbde56-2523-47ed-bacf-29cdb3f11af5",
   "metadata": {},
   "outputs": [
    {
     "name": "stdout",
     "output_type": "stream",
     "text": [
      "Split with 64 train images, 16 validation images, and 20 test images\n",
      "Mine proportions\n",
      " Train: 1.0\n",
      " Validation: 1.0\n",
      " Test: 1.0\n"
     ]
    },
    {
     "data": {
      "text/plain": [
       "{'train': array(['lat_9--045__lon_-12--115', 'lat_8--925__lon_-12--835',\n",
       "        'lat_7--765__lon_-11--875', 'lat_9--555__lon_-12--235',\n",
       "        'lat_8--965__lon_-11--885', 'lat_8--665__lon_-11--885',\n",
       "        'lat_8--605__lon_-11--965', 'lat_8--415__lon_-11--865',\n",
       "        'lat_8--605__lon_-11--975', 'lat_9--445__lon_-12--005',\n",
       "        'lat_7--645__lon_-11--965', 'lat_8--615__lon_-11--955',\n",
       "        'lat_7--665__lon_-11--965', 'lat_9--425__lon_-12--025',\n",
       "        'lat_9--425__lon_-12--035', 'lat_8--655__lon_-11--925',\n",
       "        'lat_9--395__lon_-12--035', 'lat_9--535__lon_-12--235',\n",
       "        'lat_9--445__lon_-12--015', 'lat_9--175__lon_-12--865',\n",
       "        'lat_7--645__lon_-11--975', 'lat_8--595__lon_-11--975',\n",
       "        'lat_7--685__lon_-11--905', 'lat_7--745__lon_-11--935',\n",
       "        'lat_8--645__lon_-11--935', 'lat_7--675__lon_-12--055',\n",
       "        'lat_9--545__lon_-12--205', 'lat_7--665__lon_-11--975',\n",
       "        'lat_8--515__lon_-11--915', 'lat_9--565__lon_-12--185',\n",
       "        'lat_7--665__lon_-11--955', 'lat_7--455__lon_-11--875',\n",
       "        'lat_8--685__lon_-11--875', 'lat_9--015__lon_-12--615',\n",
       "        'lat_9--475__lon_-12--155', 'lat_8--665__lon_-11--895',\n",
       "        'lat_7--675__lon_-11--955', 'lat_9--465__lon_-12--165',\n",
       "        'lat_9--545__lon_-12--235', 'lat_9--545__lon_-12--125',\n",
       "        'lat_7--695__lon_-12--065', 'lat_7--635__lon_-11--985',\n",
       "        'lat_7--875__lon_-12--655', 'lat_9--125__lon_-12--855',\n",
       "        'lat_9--375__lon_-12--015', 'lat_9--565__lon_-12--225',\n",
       "        'lat_9--365__lon_-12--015', 'lat_7--725__lon_-11--935',\n",
       "        'lat_7--685__lon_-12--065', 'lat_9--475__lon_-12--225',\n",
       "        'lat_7--655__lon_-11--865', 'lat_9--375__lon_-12--005',\n",
       "        'lat_8--675__lon_-11--885', 'lat_9--155__lon_-12--885',\n",
       "        'lat_8--655__lon_-11--915', 'lat_7--755__lon_-11--895',\n",
       "        'lat_8--695__lon_-11--865', 'lat_9--565__lon_-12--175',\n",
       "        'lat_9--475__lon_-12--205', 'lat_9--475__lon_-12--195',\n",
       "        'lat_8--675__lon_-11--875', 'lat_8--635__lon_-11--935',\n",
       "        'lat_9--015__lon_-12--015', 'lat_7--685__lon_-11--925'],\n",
       "       dtype=object),\n",
       " 'val': array(['lat_8--695__lon_-11--855', 'lat_9--075__lon_-12--125',\n",
       "        'lat_7--475__lon_-11--885', 'lat_7--705__lon_-11--925',\n",
       "        'lat_7--615__lon_-12--005', 'lat_9--335__lon_-12--275',\n",
       "        'lat_7--635__lon_-11--965', 'lat_9--145__lon_-12--795',\n",
       "        'lat_7--635__lon_-11--895', 'lat_9--445__lon_-12--025',\n",
       "        'lat_8--965__lon_-11--875', 'lat_9--535__lon_-12--255',\n",
       "        'lat_9--475__lon_-12--215', 'lat_9--305__lon_-12--095',\n",
       "        'lat_9--565__lon_-12--085', 'lat_9--075__lon_-12--115'],\n",
       "       dtype=object),\n",
       " 'test': array(['lat_8--415__lon_-11--855', 'lat_8--405__lon_-11--865',\n",
       "        'lat_7--775__lon_-11--875', 'lat_8--145__lon_-12--545',\n",
       "        'lat_9--535__lon_-12--135', 'lat_7--685__lon_-11--915',\n",
       "        'lat_9--525__lon_-12--125', 'lat_9--435__lon_-12--035',\n",
       "        'lat_9--175__lon_-12--875', 'lat_8--665__lon_-11--915',\n",
       "        'lat_9--545__lon_-12--255', 'lat_9--435__lon_-12--025',\n",
       "        'lat_8--685__lon_-11--865', 'lat_9--375__lon_-12--025',\n",
       "        'lat_9--405__lon_-12--025', 'lat_8--625__lon_-11--955',\n",
       "        'lat_7--655__lon_-11--895', 'lat_7--725__lon_-11--885',\n",
       "        'lat_7--735__lon_-11--935', 'lat_8--415__lon_-11--875'],\n",
       "       dtype=object)}"
      ]
     },
     "execution_count": 4,
     "metadata": {},
     "output_type": "execute_result"
    }
   ],
   "source": [
    "split_data(n=100)"
   ]
  },
  {
   "cell_type": "code",
   "execution_count": null,
   "id": "420d1ca3-02a0-47e8-bbe3-d6c802104fac",
   "metadata": {},
   "outputs": [],
   "source": [
    "with open(\"/n/home07/kayan/asm/data/train_test_split\", 'rb') as handle:\n",
    "    b = pickle.load(handle)"
   ]
  },
  {
   "cell_type": "code",
   "execution_count": null,
   "id": "3972ed53-2963-4447-8953-be9c268dde78",
   "metadata": {},
   "outputs": [],
   "source": []
  }
 ],
 "metadata": {
  "kernelspec": {
   "display_name": "Python [conda env:miniconda3-geo]",
   "language": "python",
   "name": "conda-env-miniconda3-geo-py"
  },
  "language_info": {
   "codemirror_mode": {
    "name": "ipython",
    "version": 3
   },
   "file_extension": ".py",
   "mimetype": "text/x-python",
   "name": "python",
   "nbconvert_exporter": "python",
   "pygments_lexer": "ipython3",
   "version": "3.9.18"
  }
 },
 "nbformat": 4,
 "nbformat_minor": 5
}
