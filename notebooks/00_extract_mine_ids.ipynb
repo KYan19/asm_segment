{
 "cells": [
  {
   "cell_type": "code",
   "execution_count": 4,
   "id": "8469a139-5696-470f-9fd4-4981915b96f0",
   "metadata": {},
   "outputs": [],
   "source": [
    "import geopandas as gpd\n",
    "import numpy as np"
   ]
  },
  {
   "cell_type": "code",
   "execution_count": 2,
   "id": "55c29a49-3837-49d3-bbed-88efba4af3ac",
   "metadata": {},
   "outputs": [
    {
     "data": {
      "text/html": [
       "<div>\n",
       "<style scoped>\n",
       "    .dataframe tbody tr th:only-of-type {\n",
       "        vertical-align: middle;\n",
       "    }\n",
       "\n",
       "    .dataframe tbody tr th {\n",
       "        vertical-align: top;\n",
       "    }\n",
       "\n",
       "    .dataframe thead th {\n",
       "        text-align: right;\n",
       "    }\n",
       "</style>\n",
       "<table border=\"1\" class=\"dataframe\">\n",
       "  <thead>\n",
       "    <tr style=\"text-align: right;\">\n",
       "      <th></th>\n",
       "      <th>lon</th>\n",
       "      <th>lat</th>\n",
       "      <th>unique_id</th>\n",
       "      <th>country</th>\n",
       "      <th>input_id</th>\n",
       "      <th>sample_type</th>\n",
       "      <th>mine_type</th>\n",
       "      <th>confidence</th>\n",
       "      <th>label</th>\n",
       "      <th>area_km2</th>\n",
       "      <th>proportion_inspected</th>\n",
       "      <th>proportion_mining</th>\n",
       "      <th>geometry</th>\n",
       "    </tr>\n",
       "  </thead>\n",
       "  <tbody>\n",
       "    <tr>\n",
       "      <th>0</th>\n",
       "      <td>-12.885</td>\n",
       "      <td>9.155</td>\n",
       "      <td>lat_9--155__lon_-12--885</td>\n",
       "      <td>SLE</td>\n",
       "      <td>SLE-1279CL</td>\n",
       "      <td>IPIS</td>\n",
       "      <td>artisanal</td>\n",
       "      <td>3.0</td>\n",
       "      <td>1.0</td>\n",
       "      <td>0.000656</td>\n",
       "      <td>0.523869</td>\n",
       "      <td>0.000523</td>\n",
       "      <td>POLYGON ((-12.88452 9.15891, -12.88457 9.15875...</td>\n",
       "    </tr>\n",
       "    <tr>\n",
       "      <th>1</th>\n",
       "      <td>-12.875</td>\n",
       "      <td>9.175</td>\n",
       "      <td>lat_9--175__lon_-12--875</td>\n",
       "      <td>SLE</td>\n",
       "      <td>SLE-184CL</td>\n",
       "      <td>IPIS</td>\n",
       "      <td>artisanal</td>\n",
       "      <td>4.0</td>\n",
       "      <td>1.0</td>\n",
       "      <td>0.000587</td>\n",
       "      <td>0.350198</td>\n",
       "      <td>0.000468</td>\n",
       "      <td>MULTIPOLYGON (((-12.87024 9.17627, -12.87035 9...</td>\n",
       "    </tr>\n",
       "    <tr>\n",
       "      <th>2</th>\n",
       "      <td>-12.865</td>\n",
       "      <td>9.175</td>\n",
       "      <td>lat_9--175__lon_-12--865</td>\n",
       "      <td>SLE</td>\n",
       "      <td>SLE-184CL</td>\n",
       "      <td>IPIS</td>\n",
       "      <td>artisanal</td>\n",
       "      <td>4.0</td>\n",
       "      <td>1.0</td>\n",
       "      <td>0.003670</td>\n",
       "      <td>0.384139</td>\n",
       "      <td>0.002924</td>\n",
       "      <td>POLYGON ((-12.86941 9.17610, -12.86930 9.17596...</td>\n",
       "    </tr>\n",
       "    <tr>\n",
       "      <th>3</th>\n",
       "      <td>-12.855</td>\n",
       "      <td>9.125</td>\n",
       "      <td>lat_9--125__lon_-12--855</td>\n",
       "      <td>SLE</td>\n",
       "      <td>negatives-1428</td>\n",
       "      <td>CLU</td>\n",
       "      <td>artisanal</td>\n",
       "      <td>3.0</td>\n",
       "      <td>1.0</td>\n",
       "      <td>0.001271</td>\n",
       "      <td>0.784137</td>\n",
       "      <td>0.001013</td>\n",
       "      <td>POLYGON ((-12.85544 9.12746, -12.85553 9.12733...</td>\n",
       "    </tr>\n",
       "    <tr>\n",
       "      <th>4</th>\n",
       "      <td>-12.835</td>\n",
       "      <td>8.925</td>\n",
       "      <td>lat_8--925__lon_-12--835</td>\n",
       "      <td>SLE</td>\n",
       "      <td>negatives-638</td>\n",
       "      <td>CLU</td>\n",
       "      <td>artisanal</td>\n",
       "      <td>3.0</td>\n",
       "      <td>1.0</td>\n",
       "      <td>0.001501</td>\n",
       "      <td>0.784137</td>\n",
       "      <td>0.001197</td>\n",
       "      <td>POLYGON ((-12.83892 8.92752, -12.83883 8.92757...</td>\n",
       "    </tr>\n",
       "  </tbody>\n",
       "</table>\n",
       "</div>"
      ],
      "text/plain": [
       "      lon    lat                 unique_id country        input_id  \\\n",
       "0 -12.885  9.155  lat_9--155__lon_-12--885     SLE      SLE-1279CL   \n",
       "1 -12.875  9.175  lat_9--175__lon_-12--875     SLE       SLE-184CL   \n",
       "2 -12.865  9.175  lat_9--175__lon_-12--865     SLE       SLE-184CL   \n",
       "3 -12.855  9.125  lat_9--125__lon_-12--855     SLE  negatives-1428   \n",
       "4 -12.835  8.925  lat_8--925__lon_-12--835     SLE   negatives-638   \n",
       "\n",
       "  sample_type  mine_type  confidence  label  area_km2  proportion_inspected  \\\n",
       "0        IPIS  artisanal         3.0    1.0  0.000656              0.523869   \n",
       "1        IPIS  artisanal         4.0    1.0  0.000587              0.350198   \n",
       "2        IPIS  artisanal         4.0    1.0  0.003670              0.384139   \n",
       "3         CLU  artisanal         3.0    1.0  0.001271              0.784137   \n",
       "4         CLU  artisanal         3.0    1.0  0.001501              0.784137   \n",
       "\n",
       "   proportion_mining                                           geometry  \n",
       "0           0.000523  POLYGON ((-12.88452 9.15891, -12.88457 9.15875...  \n",
       "1           0.000468  MULTIPOLYGON (((-12.87024 9.17627, -12.87035 9...  \n",
       "2           0.002924  POLYGON ((-12.86941 9.17610, -12.86930 9.17596...  \n",
       "3           0.001013  POLYGON ((-12.85544 9.12746, -12.85553 9.12733...  \n",
       "4           0.001197  POLYGON ((-12.83892 8.92752, -12.83883 8.92757...  "
      ]
     },
     "execution_count": 2,
     "metadata": {},
     "output_type": "execute_result"
    }
   ],
   "source": [
    "data_path = \"/n/home07/kayan/data/filtered_labels.geojson\"\n",
    "label_df = gpd.read_file(data_path)\n",
    "label_df.head()"
   ]
  },
  {
   "cell_type": "code",
   "execution_count": 3,
   "id": "7df8615f-27e5-423b-9368-90f005df354e",
   "metadata": {},
   "outputs": [],
   "source": [
    "mine_df = label_df[label_df[\"label\"] == 1.0] # keep only rows indicating there's a mine\n",
    "mine_ids = mine_df[\"unique_id\"].values"
   ]
  },
  {
   "cell_type": "code",
   "execution_count": 20,
   "id": "15f1b7ba-09ea-4d70-93f1-43a62d26837e",
   "metadata": {},
   "outputs": [],
   "source": [
    "out_path = \"/n/home07/kayan/data/mine_ids.txt\""
   ]
  },
  {
   "cell_type": "code",
   "execution_count": 25,
   "id": "029ffc03-1640-4492-ac10-c58a3420c3ed",
   "metadata": {},
   "outputs": [],
   "source": [
    "# write ids to file\n",
    "with open(out_path, 'w') as f:\n",
    "    f.write(\"\\n\".join(mine_ids)) # save mine ids separated by new lines\n",
    "    f.close()"
   ]
  },
  {
   "cell_type": "code",
   "execution_count": 29,
   "id": "1be3e2e5-4ac6-471a-acc8-0a89dc509e1b",
   "metadata": {},
   "outputs": [
    {
     "name": "stdout",
     "output_type": "stream",
     "text": [
      "['lat_9--155__lon_-12--885', 'lat_9--175__lon_-12--875', 'lat_9--175__lon_-12--865', 'lat_9--125__lon_-12--855', 'lat_8--925__lon_-12--835', 'lat_9--145__lon_-12--795', 'lat_7--875__lon_-12--655', 'lat_9--015__lon_-12--615', 'lat_8--145__lon_-12--545', 'lat_9--335__lon_-12--275']\n"
     ]
    }
   ],
   "source": [
    "# test reading data\n",
    "with open(out_path, 'r') as f:\n",
    "    test = f.read().split(\"\\n\") \n",
    "print(test[:10])"
   ]
  },
  {
   "cell_type": "code",
   "execution_count": null,
   "id": "2361fe97-97ee-4e8b-8353-5b2a1daa6163",
   "metadata": {},
   "outputs": [],
   "source": []
  }
 ],
 "metadata": {
  "kernelspec": {
   "display_name": "Python 3",
   "language": "python",
   "name": "python3"
  },
  "language_info": {
   "codemirror_mode": {
    "name": "ipython",
    "version": 3
   },
   "file_extension": ".py",
   "mimetype": "text/x-python",
   "name": "python",
   "nbconvert_exporter": "python",
   "pygments_lexer": "ipython3",
   "version": "3.8.8"
  }
 },
 "nbformat": 4,
 "nbformat_minor": 5
}
