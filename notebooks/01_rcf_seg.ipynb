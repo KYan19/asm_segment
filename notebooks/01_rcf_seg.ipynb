{
 "cells": [
  {
   "cell_type": "code",
   "execution_count": 4,
   "id": "b78175a0-fa58-4288-ac20-b1ce47d37dfc",
   "metadata": {},
   "outputs": [],
   "source": [
    "import os\n",
    "import sys\n",
    "import shutil\n",
    "import multiprocessing as mp\n",
    "import matplotlib.pyplot as plt\n",
    "import torch\n",
    "from torchgeo.models import RCF\n",
    "from lightning.pytorch import Trainer\n",
    "from lightning.pytorch.callbacks import Callback, ModelCheckpoint\n",
    "from lightning.pytorch.loggers import WandbLogger\n",
    "import geopandas as gpd\n",
    "import rasterio\n",
    "import numpy as np\n",
    "import wandb\n",
    "from sklearn.metrics import roc_auc_score, roc_curve, auc\n",
    "\n",
    "sys.path.append(\"../scripts/\")\n",
    "from asm_datamodules import *\n",
    "from asm_models import *"
   ]
  },
  {
   "cell_type": "code",
   "execution_count": 2,
   "id": "9d25333d-b5e4-47dc-a7da-e92a52547698",
   "metadata": {},
   "outputs": [],
   "source": [
    "%load_ext autoreload\n",
    "%autoreload 2"
   ]
  },
  {
   "cell_type": "markdown",
   "id": "d31082be-92e1-477e-bf3b-2595e8a3b1f3",
   "metadata": {},
   "source": [
    "# Configuration"
   ]
  },
  {
   "cell_type": "code",
   "execution_count": 5,
   "id": "a9709241-c0b3-40c0-8e0f-b2cc2951cbb9",
   "metadata": {},
   "outputs": [
    {
     "name": "stdout",
     "output_type": "stream",
     "text": [
      "Running on 1 cuda(s) with 1 cpus\n",
      "Torch indicates there are 1 CPUs\n"
     ]
    }
   ],
   "source": [
    "# device configuration\n",
    "device, num_devices = (\"cuda\", torch.cuda.device_count()) if torch.cuda.is_available() else (\"cpu\", mp.cpu_count())\n",
    "workers = len(os.sched_getaffinity(0))\n",
    "print(f\"Running on {num_devices} {device}(s) with {workers} cpus\")\n",
    "print(f\"Torch indicates there are {torch.get_num_threads()} CPUs\")\n",
    "\n",
    "# file names and paths\n",
    "root = \"/n/holyscratch01/tambe_lab/kayan/karena/\" # root for data files"
   ]
  },
  {
   "cell_type": "code",
   "execution_count": 6,
   "id": "4da11982-46dd-4e02-af23-9de063a4be61",
   "metadata": {},
   "outputs": [],
   "source": [
    "# model parameters\n",
    "lr = 1e-4\n",
    "n_epoch = 1\n",
    "batch_size = 64\n",
    "loss = \"ce\"\n",
    "class_weights = [0.2,0.8]\n",
    "num_workers = 1\n",
    "mines_only = False\n",
    "split = False\n",
    "split_n = None\n",
    "split_path = \"/n/home07/kayan/asm/data/splits/9_all_data_lowlr_save-split\"\n",
    "freeze_backbone = False\n",
    "save_split = False"
   ]
  },
  {
   "cell_type": "markdown",
   "id": "84c6624a-9652-48be-a9b6-dabfc87c06bc",
   "metadata": {},
   "source": [
    "# Prepare Data"
   ]
  },
  {
   "cell_type": "code",
   "execution_count": 21,
   "id": "e3404f32-ab9f-4832-ac79-dac58e61ec2e",
   "metadata": {},
   "outputs": [],
   "source": [
    "# set up dataset to sample from in empirical RCF\n",
    "emp_rcf_dataset = ASMDataset(transforms=min_max_transform, split=\"train\", split_path=split_path)"
   ]
  },
  {
   "cell_type": "code",
   "execution_count": 22,
   "id": "6870764b-acee-4dff-9e1f-43c32d061099",
   "metadata": {},
   "outputs": [],
   "source": [
    "# rcf parameters\n",
    "features = 1000\n",
    "crop_size = 32\n",
    "mode = \"empirical\"\n",
    "dataset = emp_rcf_dataset"
   ]
  },
  {
   "cell_type": "code",
   "execution_count": 23,
   "id": "f8a1614e-ae37-494f-b97f-a49cbb1231ab",
   "metadata": {},
   "outputs": [],
   "source": [
    "# create and set up RCF-transformed datamodule \n",
    "datamodule = ASMDataModule(batch_size=batch_size, num_workers=num_workers, split=split, split_n=split_n, \n",
    "                           root=root, transforms=rcf, mines_only=mines_only, split_path=split_path,\n",
    "                           features=features, crop_size=crop_size, mode=mode, dataset=dataset)"
   ]
  },
  {
   "cell_type": "code",
   "execution_count": 24,
   "id": "16daaea0-1803-4d40-a4df-644a0c5fd19b",
   "metadata": {},
   "outputs": [],
   "source": [
    "datamodule.setup(\"fit\")\n",
    "train_dataloader = datamodule.train_dataloader()\n",
    "val_dataloader = datamodule.val_dataloader()"
   ]
  },
  {
   "cell_type": "markdown",
   "id": "f8e9365c-a601-4b09-bc56-4690c470c02b",
   "metadata": {},
   "source": [
    "# Initialize RCF pixelwise regression task"
   ]
  },
  {
   "cell_type": "code",
   "execution_count": 25,
   "id": "b04832f6-911e-4e0b-b00c-522b250b894f",
   "metadata": {},
   "outputs": [],
   "source": [
    "task = CustomSemanticSegmentationTask(\n",
    "    model=\"rcf\",\n",
    "    weights=True,\n",
    "    loss=loss,\n",
    "    class_weights = torch.Tensor(class_weights) if class_weights is not None else None,\n",
    "    in_channels=features,\n",
    "    num_classes=2,\n",
    "    lr=lr\n",
    ")"
   ]
  },
  {
   "cell_type": "code",
   "execution_count": 26,
   "id": "00187279-6905-4ab4-9962-8c615f705f80",
   "metadata": {},
   "outputs": [
    {
     "name": "stderr",
     "output_type": "stream",
     "text": [
      "GPU available: True (cuda), used: True\n",
      "TPU available: False, using: 0 TPU cores\n",
      "IPU available: False, using: 0 IPUs\n",
      "HPU available: False, using: 0 HPUs\n"
     ]
    }
   ],
   "source": [
    "trainer = Trainer(\n",
    "        accelerator=device,\n",
    "        devices=num_devices,\n",
    "        max_epochs=n_epoch,\n",
    "        logger=False\n",
    "    )"
   ]
  },
  {
   "cell_type": "code",
   "execution_count": null,
   "id": "0753a6e2-d392-4d03-b17d-9c71f71437d3",
   "metadata": {},
   "outputs": [
    {
     "name": "stderr",
     "output_type": "stream",
     "text": [
      "LOCAL_RANK: 0 - CUDA_VISIBLE_DEVICES: [MIG-aa265898-f38d-56fb-a517-3ec989e16b08]\n",
      "\n",
      "  | Name          | Type             | Params\n",
      "---------------------------------------------------\n",
      "0 | criterion     | CrossEntropyLoss | 0     \n",
      "1 | train_metrics | MetricCollection | 0     \n",
      "2 | val_metrics   | MetricCollection | 0     \n",
      "3 | test_metrics  | MetricCollection | 0     \n",
      "4 | model         | RCFRegression    | 2.0 K \n",
      "---------------------------------------------------\n",
      "2.0 K     Trainable params\n",
      "0         Non-trainable params\n",
      "2.0 K     Total params\n",
      "0.008     Total estimated model params size (MB)\n"
     ]
    },
    {
     "data": {
      "application/vnd.jupyter.widget-view+json": {
       "model_id": "a91f72aeec9e43be9016366a3299559a",
       "version_major": 2,
       "version_minor": 0
      },
      "text/plain": [
       "Sanity Checking: |          | 0/? [00:00<?, ?it/s]"
      ]
     },
     "metadata": {},
     "output_type": "display_data"
    }
   ],
   "source": [
    "trainer.fit(model=task, train_dataloaders=train_dataloader, val_dataloaders=val_dataloader)"
   ]
  },
  {
   "cell_type": "code",
   "execution_count": 18,
   "id": "7bec0dd2-94e7-4a64-9eb6-6939b3e21f21",
   "metadata": {},
   "outputs": [
    {
     "name": "stderr",
     "output_type": "stream",
     "text": [
      "LOCAL_RANK: 0 - CUDA_VISIBLE_DEVICES: [MIG-50e60ea6-7c54-5212-8df1-d6c45c908599]\n",
      "/n/home07/kayan/miniconda3/envs/geo-ml/lib/python3.11/site-packages/lightning/pytorch/trainer/connectors/data_connector.py:441: The 'test_dataloader' does not have many workers which may be a bottleneck. Consider increasing the value of the `num_workers` argument` to `num_workers=1` in the `DataLoader` to improve performance.\n"
     ]
    },
    {
     "data": {
      "application/vnd.jupyter.widget-view+json": {
       "model_id": "ba52b6ac495444e3a6a0d45423a6dbbd",
       "version_major": 2,
       "version_minor": 0
      },
      "text/plain": [
       "Testing: |          | 0/? [00:00<?, ?it/s]"
      ]
     },
     "metadata": {},
     "output_type": "display_data"
    },
    {
     "name": "stderr",
     "output_type": "stream",
     "text": [
      "/n/home07/kayan/miniconda3/envs/geo-ml/lib/python3.11/site-packages/lightning/pytorch/utilities/data.py:77: Trying to infer the `batch_size` from an ambiguous collection. The batch size we found is 39. To avoid any miscalculations, use `self.log(..., batch_size=batch_size)`.\n"
     ]
    },
    {
     "data": {
      "text/html": [
       "<pre style=\"white-space:pre;overflow-x:auto;line-height:normal;font-family:Menlo,'DejaVu Sans Mono',consolas,'Courier New',monospace\">┏━━━━━━━━━━━━━━━━━━━━━━━━━━━━━┳━━━━━━━━━━━━━━━━━━━━━━━━━━━━━┓\n",
       "┃<span style=\"font-weight: bold\">         Test metric         </span>┃<span style=\"font-weight: bold\">        DataLoader 0         </span>┃\n",
       "┡━━━━━━━━━━━━━━━━━━━━━━━━━━━━━╇━━━━━━━━━━━━━━━━━━━━━━━━━━━━━┩\n",
       "│<span style=\"color: #008080; text-decoration-color: #008080\">   test_MulticlassAccuracy   </span>│<span style=\"color: #800080; text-decoration-color: #800080\">     0.02345840074121952     </span>│\n",
       "│<span style=\"color: #008080; text-decoration-color: #008080\"> test_MulticlassJaccardIndex </span>│<span style=\"color: #800080; text-decoration-color: #800080\">     0.01186840794980526     </span>│\n",
       "│<span style=\"color: #008080; text-decoration-color: #008080\">          test_loss          </span>│<span style=\"color: #800080; text-decoration-color: #800080\">     1.0391552448272705      </span>│\n",
       "└─────────────────────────────┴─────────────────────────────┘\n",
       "</pre>\n"
      ],
      "text/plain": [
       "┏━━━━━━━━━━━━━━━━━━━━━━━━━━━━━┳━━━━━━━━━━━━━━━━━━━━━━━━━━━━━┓\n",
       "┃\u001b[1m \u001b[0m\u001b[1m        Test metric        \u001b[0m\u001b[1m \u001b[0m┃\u001b[1m \u001b[0m\u001b[1m       DataLoader 0        \u001b[0m\u001b[1m \u001b[0m┃\n",
       "┡━━━━━━━━━━━━━━━━━━━━━━━━━━━━━╇━━━━━━━━━━━━━━━━━━━━━━━━━━━━━┩\n",
       "│\u001b[36m \u001b[0m\u001b[36m  test_MulticlassAccuracy  \u001b[0m\u001b[36m \u001b[0m│\u001b[35m \u001b[0m\u001b[35m    0.02345840074121952    \u001b[0m\u001b[35m \u001b[0m│\n",
       "│\u001b[36m \u001b[0m\u001b[36mtest_MulticlassJaccardIndex\u001b[0m\u001b[36m \u001b[0m│\u001b[35m \u001b[0m\u001b[35m    0.01186840794980526    \u001b[0m\u001b[35m \u001b[0m│\n",
       "│\u001b[36m \u001b[0m\u001b[36m         test_loss         \u001b[0m\u001b[36m \u001b[0m│\u001b[35m \u001b[0m\u001b[35m    1.0391552448272705     \u001b[0m\u001b[35m \u001b[0m│\n",
       "└─────────────────────────────┴─────────────────────────────┘\n"
      ]
     },
     "metadata": {},
     "output_type": "display_data"
    },
    {
     "data": {
      "text/plain": [
       "[{'test_loss': 1.0391552448272705,\n",
       "  'test_MulticlassAccuracy': 0.02345840074121952,\n",
       "  'test_MulticlassJaccardIndex': 0.01186840794980526}]"
      ]
     },
     "execution_count": 18,
     "metadata": {},
     "output_type": "execute_result"
    }
   ],
   "source": [
    "# set up datamodule for testing\n",
    "datamodule.setup(\"test\")\n",
    "test_dataloader = datamodule.test_dataloader()\n",
    "\n",
    "trainer.test(model=task, dataloaders=test_dataloader)"
   ]
  },
  {
   "cell_type": "code",
   "execution_count": null,
   "id": "02c428ae-f089-4169-8e7f-d861fcf37570",
   "metadata": {},
   "outputs": [],
   "source": []
  }
 ],
 "metadata": {
  "kernelspec": {
   "display_name": "Python [conda env:miniconda3-geo-ml]",
   "language": "python",
   "name": "conda-env-miniconda3-geo-ml-py"
  },
  "language_info": {
   "codemirror_mode": {
    "name": "ipython",
    "version": 3
   },
   "file_extension": ".py",
   "mimetype": "text/x-python",
   "name": "python",
   "nbconvert_exporter": "python",
   "pygments_lexer": "ipython3",
   "version": "3.11.6"
  }
 },
 "nbformat": 4,
 "nbformat_minor": 5
}
