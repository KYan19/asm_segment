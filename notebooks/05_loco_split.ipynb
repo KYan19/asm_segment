{
 "cells": [
  {
   "cell_type": "code",
   "execution_count": 3,
   "id": "910ff926-fd98-4e4e-8fb7-d0dda010a5ae",
   "metadata": {},
   "outputs": [],
   "source": [
    "import os\n",
    "from pathlib import Path\n",
    "import random\n",
    "import pickle\n",
    "import geopandas as gpd\n",
    "import numpy as np\n",
    "from sklearn.model_selection import train_test_split"
   ]
  },
  {
   "cell_type": "code",
   "execution_count": 4,
   "id": "e7dfda69-b9cd-48b0-9fe3-2f3cc24a764c",
   "metadata": {},
   "outputs": [],
   "source": [
    "# Set the random seed for reproducibility\n",
    "seed = 42\n",
    "random.seed(seed)"
   ]
  },
  {
   "cell_type": "code",
   "execution_count": 13,
   "id": "6191c55f-b97c-4759-acd6-8c369b70e5fc",
   "metadata": {},
   "outputs": [],
   "source": [
    "path = \"/n/home07/kayan/asm/data/filtered_labels.geojson\"\n",
    "data_path=\"/n/holyscratch01/tambe_lab/kayan/karena/images/\"\n",
    "label_df = gpd.read_file(path)"
   ]
  },
  {
   "cell_type": "code",
   "execution_count": 14,
   "id": "f706e1e7-ad3d-40c5-b72c-74428ba1d270",
   "metadata": {},
   "outputs": [],
   "source": [
    "# take out any files that are not present in the image directory\n",
    "dir_ids = [Path(file_name).stem for file_name in os.listdir(data_path)]\n",
    "label_df = label_df[label_df[\"unique_id\"].isin(dir_ids)]"
   ]
  },
  {
   "cell_type": "code",
   "execution_count": 10,
   "id": "b2c2cf80-6143-4e8c-ba01-9c995e14639b",
   "metadata": {},
   "outputs": [],
   "source": [
    "countries = label_df[\"country\"].unique()"
   ]
  },
  {
   "cell_type": "code",
   "execution_count": 22,
   "id": "4f834904-05b7-4a89-895d-0a86e9b1c365",
   "metadata": {},
   "outputs": [
    {
     "data": {
      "text/plain": [
       "array(['SLE', 'COD', 'CAF', 'ZWE', 'TZA'], dtype=object)"
      ]
     },
     "execution_count": 22,
     "metadata": {},
     "output_type": "execute_result"
    }
   ],
   "source": [
    "countries"
   ]
  },
  {
   "cell_type": "code",
   "execution_count": 21,
   "id": "912eecac-f062-4656-8cb6-5a87a275ea24",
   "metadata": {},
   "outputs": [
    {
     "name": "stdout",
     "output_type": "stream",
     "text": [
      "Split for SLE with 7978 train samples, 1995 val samples, and 4668 test samples.\n",
      "Split for COD with 5643 train samples, 1411 val samples, and 7587 test samples.\n",
      "Split for CAF with 10872 train samples, 2719 val samples, and 1050 test samples.\n",
      "Split for ZWE with 11420 train samples, 2855 val samples, and 366 test samples.\n",
      "Split for TZA with 10936 train samples, 2735 val samples, and 970 test samples.\n"
     ]
    }
   ],
   "source": [
    "for country in countries:\n",
    "    # unique file path for this split\n",
    "    out_path = \"/n/home07/kayan/asm/data/splits/split_LOCO_\"+str(country)\n",
    "    \n",
    "    # leave this country out as test dataset\n",
    "    test_ids = label_df[label_df[\"country\"]==country][\"unique_id\"].values\n",
    "    train_val_df = label_df[label_df[\"country\"]!=country]\n",
    "    \n",
    "    # split reamining data into train and val\n",
    "    train, val = train_test_split(train_val_df,\n",
    "                stratify=train_val_df[\"country\"],\n",
    "                test_size=0.2,\n",
    "                random_state=seed)\n",
    "    \n",
    "    # get unique identifiers for each split\n",
    "    train_ids = train[\"unique_id\"].values\n",
    "    val_ids = val[\"unique_id\"].values\n",
    "    \n",
    "    print(f\"Split for {country} with {len(train_ids)} train samples, {len(val_ids)} val samples, and {len(test_ids)} test samples.\")\n",
    "    \n",
    "    split_ids = {\"train\": train_ids, \"val\": val_ids, \"test\":test_ids}\n",
    "    \n",
    "    # save as pickle file\n",
    "    with open(out_path, 'wb') as handle:\n",
    "        pickle.dump(split_ids, handle, protocol=pickle.HIGHEST_PROTOCOL)"
   ]
  },
  {
   "cell_type": "code",
   "execution_count": null,
   "id": "63524e47-1650-47d2-a4d7-8427e1d6797c",
   "metadata": {},
   "outputs": [],
   "source": []
  }
 ],
 "metadata": {
  "kernelspec": {
   "display_name": "Python [conda env:miniconda3-geo]",
   "language": "python",
   "name": "conda-env-miniconda3-geo-py"
  },
  "language_info": {
   "codemirror_mode": {
    "name": "ipython",
    "version": 3
   },
   "file_extension": ".py",
   "mimetype": "text/x-python",
   "name": "python",
   "nbconvert_exporter": "python",
   "pygments_lexer": "ipython3",
   "version": "3.9.18"
  }
 },
 "nbformat": 4,
 "nbformat_minor": 5
}
